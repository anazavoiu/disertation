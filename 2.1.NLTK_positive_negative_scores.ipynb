{
 "cells": [
  {
   "cell_type": "markdown",
   "metadata": {},
   "source": [
    "\"\"\"\n",
    "If you use the VADER sentiment analysis tools, please cite:\n",
    "\n",
    "Hutto, C.J. & Gilbert, E.E. (2014). VADER: A Parsimonious Rule-based Model for\n",
    "Sentiment Analysis of Social Media Text. Eighth International Conference on\n",
    "Weblogs and Social Media (ICWSM-14). Ann Arbor, MI, June 2014.\n",
    "\"\"\""
   ]
  },
  {
   "cell_type": "markdown",
   "metadata": {},
   "source": [
    "### Package imports "
   ]
  },
  {
   "cell_type": "code",
   "execution_count": 3,
   "metadata": {},
   "outputs": [],
   "source": [
    "#General\n",
    "import numpy as np \n",
    "import pandas as pd\n",
    "\n",
    "#Sentiment Analysis\n",
    "import nltk #natural language toolkit\n",
    "import re # regular expresions\n",
    "import html.parser #the basis for parsing text files formatted in HTML (HyperText Mark-up Language) and XHTML.\n",
    "from nltk.sentiment.vader import SentimentIntensityAnalyzer #Give a sentiment intensity score to sentences\n"
   ]
  },
  {
   "cell_type": "markdown",
   "metadata": {},
   "source": [
    "VADER (Valence Aware Dictionary and sEntiment Reasoner) is a lexicon and rule-based sentiment analysis tool that is specifically attuned to sentiments expressed in social media, and works well on texts from other domains. "
   ]
  },
  {
   "cell_type": "code",
   "execution_count": 4,
   "metadata": {},
   "outputs": [],
   "source": [
    "#nltk.downloader.download('vader_lexicon')"
   ]
  },
  {
   "cell_type": "markdown",
   "metadata": {},
   "source": [
    "### Data import and processing"
   ]
  },
  {
   "cell_type": "code",
   "execution_count": 5,
   "metadata": {},
   "outputs": [],
   "source": [
    "dataset = pd.read_csv('./vienna_data/raw/reviews_17_03_2020.csv')"
   ]
  },
  {
   "cell_type": "code",
   "execution_count": 10,
   "metadata": {},
   "outputs": [
    {
     "data": {
      "text/html": [
       "<div>\n",
       "<style scoped>\n",
       "    .dataframe tbody tr th:only-of-type {\n",
       "        vertical-align: middle;\n",
       "    }\n",
       "\n",
       "    .dataframe tbody tr th {\n",
       "        vertical-align: top;\n",
       "    }\n",
       "\n",
       "    .dataframe thead th {\n",
       "        text-align: right;\n",
       "    }\n",
       "</style>\n",
       "<table border=\"1\" class=\"dataframe\">\n",
       "  <thead>\n",
       "    <tr style=\"text-align: right;\">\n",
       "      <th></th>\n",
       "      <th>listing_id</th>\n",
       "      <th>id</th>\n",
       "      <th>date</th>\n",
       "      <th>reviewer_id</th>\n",
       "      <th>reviewer_name</th>\n",
       "      <th>comments</th>\n",
       "    </tr>\n",
       "  </thead>\n",
       "  <tbody>\n",
       "    <tr>\n",
       "      <th>0</th>\n",
       "      <td>15883</td>\n",
       "      <td>29643839</td>\n",
       "      <td>2015-04-10</td>\n",
       "      <td>30537860</td>\n",
       "      <td>Robert</td>\n",
       "      <td>If you need a clean, comfortable place to stay...</td>\n",
       "    </tr>\n",
       "    <tr>\n",
       "      <th>1</th>\n",
       "      <td>15883</td>\n",
       "      <td>80590019</td>\n",
       "      <td>2016-06-19</td>\n",
       "      <td>37529754</td>\n",
       "      <td>Chuang</td>\n",
       "      <td>It's so nice to be in the house! It's a peace ...</td>\n",
       "    </tr>\n",
       "    <tr>\n",
       "      <th>2</th>\n",
       "      <td>15883</td>\n",
       "      <td>89583522</td>\n",
       "      <td>2016-07-29</td>\n",
       "      <td>3147341</td>\n",
       "      <td>Arber</td>\n",
       "      <td>A beautiful place, uniquely decorated showing ...</td>\n",
       "    </tr>\n",
       "    <tr>\n",
       "      <th>3</th>\n",
       "      <td>15883</td>\n",
       "      <td>93550424</td>\n",
       "      <td>2016-08-13</td>\n",
       "      <td>29518067</td>\n",
       "      <td>Raphaela</td>\n",
       "      <td>Eine sehr schöne Unterkunft in einem privaten ...</td>\n",
       "    </tr>\n",
       "    <tr>\n",
       "      <th>4</th>\n",
       "      <td>15883</td>\n",
       "      <td>114990769</td>\n",
       "      <td>2016-11-21</td>\n",
       "      <td>36016357</td>\n",
       "      <td>Chris</td>\n",
       "      <td>It was a very pleasant stay. Excellent locatio...</td>\n",
       "    </tr>\n",
       "  </tbody>\n",
       "</table>\n",
       "</div>"
      ],
      "text/plain": [
       "   listing_id         id        date  reviewer_id reviewer_name  \\\n",
       "0       15883   29643839  2015-04-10     30537860        Robert   \n",
       "1       15883   80590019  2016-06-19     37529754        Chuang   \n",
       "2       15883   89583522  2016-07-29      3147341         Arber   \n",
       "3       15883   93550424  2016-08-13     29518067      Raphaela   \n",
       "4       15883  114990769  2016-11-21     36016357         Chris   \n",
       "\n",
       "                                            comments  \n",
       "0  If you need a clean, comfortable place to stay...  \n",
       "1  It's so nice to be in the house! It's a peace ...  \n",
       "2  A beautiful place, uniquely decorated showing ...  \n",
       "3  Eine sehr schöne Unterkunft in einem privaten ...  \n",
       "4  It was a very pleasant stay. Excellent locatio...  "
      ]
     },
     "execution_count": 10,
     "metadata": {},
     "output_type": "execute_result"
    }
   ],
   "source": [
    "dataset.head(5)"
   ]
  },
  {
   "cell_type": "code",
   "execution_count": 7,
   "metadata": {},
   "outputs": [
    {
     "name": "stdout",
     "output_type": "stream",
     "text": [
      "<class 'pandas.core.frame.DataFrame'>\n",
      "RangeIndex: 470279 entries, 0 to 470278\n",
      "Data columns (total 6 columns):\n",
      " #   Column         Non-Null Count   Dtype \n",
      "---  ------         --------------   ----- \n",
      " 0   listing_id     470279 non-null  int64 \n",
      " 1   id             470279 non-null  int64 \n",
      " 2   date           470279 non-null  object\n",
      " 3   reviewer_id    470279 non-null  int64 \n",
      " 4   reviewer_name  470279 non-null  object\n",
      " 5   comments       469979 non-null  object\n",
      "dtypes: int64(3), object(3)\n",
      "memory usage: 21.5+ MB\n"
     ]
    }
   ],
   "source": [
    "dataset.info()"
   ]
  },
  {
   "cell_type": "code",
   "execution_count": 8,
   "metadata": {},
   "outputs": [
    {
     "data": {
      "text/plain": [
       "listing_id         0\n",
       "id                 0\n",
       "date               0\n",
       "reviewer_id        0\n",
       "reviewer_name      0\n",
       "comments         300\n",
       "dtype: int64"
      ]
     },
     "execution_count": 8,
     "metadata": {},
     "output_type": "execute_result"
    }
   ],
   "source": [
    "dataset.isna().sum()"
   ]
  },
  {
   "cell_type": "code",
   "execution_count": 9,
   "metadata": {},
   "outputs": [],
   "source": [
    "#the comments column it's the only one having na values so we will drop those lines\n",
    "dataset=dataset.dropna()\n",
    "dataset.reset_index(drop=True, inplace = True)"
   ]
  },
  {
   "cell_type": "code",
   "execution_count": 11,
   "metadata": {
    "scrolled": true
   },
   "outputs": [
    {
     "name": "stdout",
     "output_type": "stream",
     "text": [
      "The remaining dataset contains 469979 reviews \n",
      "\n"
     ]
    },
    {
     "data": {
      "text/html": [
       "<div>\n",
       "<style scoped>\n",
       "    .dataframe tbody tr th:only-of-type {\n",
       "        vertical-align: middle;\n",
       "    }\n",
       "\n",
       "    .dataframe tbody tr th {\n",
       "        vertical-align: top;\n",
       "    }\n",
       "\n",
       "    .dataframe thead th {\n",
       "        text-align: right;\n",
       "    }\n",
       "</style>\n",
       "<table border=\"1\" class=\"dataframe\">\n",
       "  <thead>\n",
       "    <tr style=\"text-align: right;\">\n",
       "      <th></th>\n",
       "      <th>listing_id</th>\n",
       "      <th>id</th>\n",
       "      <th>date</th>\n",
       "      <th>reviewer_id</th>\n",
       "      <th>reviewer_name</th>\n",
       "      <th>comments</th>\n",
       "    </tr>\n",
       "  </thead>\n",
       "  <tbody>\n",
       "    <tr>\n",
       "      <th>0</th>\n",
       "      <td>15883</td>\n",
       "      <td>29643839</td>\n",
       "      <td>2015-04-10</td>\n",
       "      <td>30537860</td>\n",
       "      <td>Robert</td>\n",
       "      <td>If you need a clean, comfortable place to stay...</td>\n",
       "    </tr>\n",
       "    <tr>\n",
       "      <th>1</th>\n",
       "      <td>15883</td>\n",
       "      <td>80590019</td>\n",
       "      <td>2016-06-19</td>\n",
       "      <td>37529754</td>\n",
       "      <td>Chuang</td>\n",
       "      <td>It's so nice to be in the house! It's a peace ...</td>\n",
       "    </tr>\n",
       "    <tr>\n",
       "      <th>2</th>\n",
       "      <td>15883</td>\n",
       "      <td>89583522</td>\n",
       "      <td>2016-07-29</td>\n",
       "      <td>3147341</td>\n",
       "      <td>Arber</td>\n",
       "      <td>A beautiful place, uniquely decorated showing ...</td>\n",
       "    </tr>\n",
       "    <tr>\n",
       "      <th>3</th>\n",
       "      <td>15883</td>\n",
       "      <td>93550424</td>\n",
       "      <td>2016-08-13</td>\n",
       "      <td>29518067</td>\n",
       "      <td>Raphaela</td>\n",
       "      <td>Eine sehr schöne Unterkunft in einem privaten ...</td>\n",
       "    </tr>\n",
       "    <tr>\n",
       "      <th>4</th>\n",
       "      <td>15883</td>\n",
       "      <td>114990769</td>\n",
       "      <td>2016-11-21</td>\n",
       "      <td>36016357</td>\n",
       "      <td>Chris</td>\n",
       "      <td>It was a very pleasant stay. Excellent locatio...</td>\n",
       "    </tr>\n",
       "  </tbody>\n",
       "</table>\n",
       "</div>"
      ],
      "text/plain": [
       "   listing_id         id        date  reviewer_id reviewer_name  \\\n",
       "0       15883   29643839  2015-04-10     30537860        Robert   \n",
       "1       15883   80590019  2016-06-19     37529754        Chuang   \n",
       "2       15883   89583522  2016-07-29      3147341         Arber   \n",
       "3       15883   93550424  2016-08-13     29518067      Raphaela   \n",
       "4       15883  114990769  2016-11-21     36016357         Chris   \n",
       "\n",
       "                                            comments  \n",
       "0  If you need a clean, comfortable place to stay...  \n",
       "1  It's so nice to be in the house! It's a peace ...  \n",
       "2  A beautiful place, uniquely decorated showing ...  \n",
       "3  Eine sehr schöne Unterkunft in einem privaten ...  \n",
       "4  It was a very pleasant stay. Excellent locatio...  "
      ]
     },
     "execution_count": 11,
     "metadata": {},
     "output_type": "execute_result"
    }
   ],
   "source": [
    "print(f'The remaining dataset contains {len(dataset)} reviews \\n')\n",
    "\n",
    "dataset.head()"
   ]
  },
  {
   "cell_type": "code",
   "execution_count": 12,
   "metadata": {},
   "outputs": [
    {
     "name": "stdout",
     "output_type": "stream",
     "text": [
      "<class 'pandas.core.frame.DataFrame'>\n",
      "RangeIndex: 469979 entries, 0 to 469978\n",
      "Data columns (total 3 columns):\n",
      " #   Column       Non-Null Count   Dtype \n",
      "---  ------       --------------   ----- \n",
      " 0   listing_id   469979 non-null  int64 \n",
      " 1   reviewer_id  469979 non-null  int64 \n",
      " 2   comments     469979 non-null  object\n",
      "dtypes: int64(2), object(1)\n",
      "memory usage: 10.8+ MB\n"
     ]
    }
   ],
   "source": [
    "#Only the listings id, reviewer id and comments columns will be kept\n",
    "dataset=dataset.drop(['id','reviewer_name','date'],axis=1)\n",
    "dataset.info()"
   ]
  },
  {
   "cell_type": "code",
   "execution_count": 13,
   "metadata": {},
   "outputs": [
    {
     "data": {
      "text/html": [
       "<div>\n",
       "<style scoped>\n",
       "    .dataframe tbody tr th:only-of-type {\n",
       "        vertical-align: middle;\n",
       "    }\n",
       "\n",
       "    .dataframe tbody tr th {\n",
       "        vertical-align: top;\n",
       "    }\n",
       "\n",
       "    .dataframe thead th {\n",
       "        text-align: right;\n",
       "    }\n",
       "</style>\n",
       "<table border=\"1\" class=\"dataframe\">\n",
       "  <thead>\n",
       "    <tr style=\"text-align: right;\">\n",
       "      <th></th>\n",
       "      <th>listing_id</th>\n",
       "      <th>reviewer_id</th>\n",
       "      <th>comments</th>\n",
       "    </tr>\n",
       "  </thead>\n",
       "  <tbody>\n",
       "    <tr>\n",
       "      <th>469959</th>\n",
       "      <td>42642091</td>\n",
       "      <td>299008765</td>\n",
       "      <td>La estancia fue increíble. Nos dejaron cosas p...</td>\n",
       "    </tr>\n",
       "    <tr>\n",
       "      <th>469960</th>\n",
       "      <td>42665072</td>\n",
       "      <td>14455623</td>\n",
       "      <td>The apartment is clean and simple. You have to...</td>\n",
       "    </tr>\n",
       "    <tr>\n",
       "      <th>469961</th>\n",
       "      <td>42665072</td>\n",
       "      <td>6036216</td>\n",
       "      <td>Very cute and great apartment, price vs value ...</td>\n",
       "    </tr>\n",
       "    <tr>\n",
       "      <th>469962</th>\n",
       "      <td>42665072</td>\n",
       "      <td>196311212</td>\n",
       "      <td>This accommodation is not so far from Vienna h...</td>\n",
       "    </tr>\n",
       "    <tr>\n",
       "      <th>469963</th>\n",
       "      <td>42666433</td>\n",
       "      <td>126455592</td>\n",
       "      <td>Me and my friend really liked it\\nWe loved it ❤️</td>\n",
       "    </tr>\n",
       "    <tr>\n",
       "      <th>469964</th>\n",
       "      <td>42667250</td>\n",
       "      <td>141082281</td>\n",
       "      <td>Super nette Gastgeberin, kleine feine Wohnung,...</td>\n",
       "    </tr>\n",
       "    <tr>\n",
       "      <th>469965</th>\n",
       "      <td>42667250</td>\n",
       "      <td>30923871</td>\n",
       "      <td>Leticia ist sehr nett und hilfsbereit. Die Woh...</td>\n",
       "    </tr>\n",
       "    <tr>\n",
       "      <th>469966</th>\n",
       "      <td>42667250</td>\n",
       "      <td>224507883</td>\n",
       "      <td>The host canceled this reservation 21 days bef...</td>\n",
       "    </tr>\n",
       "    <tr>\n",
       "      <th>469967</th>\n",
       "      <td>42667250</td>\n",
       "      <td>33800333</td>\n",
       "      <td>The host canceled this reservation 23 days bef...</td>\n",
       "    </tr>\n",
       "    <tr>\n",
       "      <th>469968</th>\n",
       "      <td>42667250</td>\n",
       "      <td>294752327</td>\n",
       "      <td>The host canceled this reservation 27 days bef...</td>\n",
       "    </tr>\n",
       "    <tr>\n",
       "      <th>469969</th>\n",
       "      <td>42675475</td>\n",
       "      <td>238884559</td>\n",
       "      <td>The host canceled this reservation 29 days bef...</td>\n",
       "    </tr>\n",
       "    <tr>\n",
       "      <th>469970</th>\n",
       "      <td>42678136</td>\n",
       "      <td>287767126</td>\n",
       "      <td>Nette Kommunikation, unproblematischer Check-i...</td>\n",
       "    </tr>\n",
       "    <tr>\n",
       "      <th>469971</th>\n",
       "      <td>42682962</td>\n",
       "      <td>340074629</td>\n",
       "      <td>The host canceled this reservation 22 days bef...</td>\n",
       "    </tr>\n",
       "    <tr>\n",
       "      <th>469972</th>\n",
       "      <td>42689613</td>\n",
       "      <td>324408348</td>\n",
       "      <td>Die Wohnung ist neu renoviert und sehr schön e...</td>\n",
       "    </tr>\n",
       "    <tr>\n",
       "      <th>469973</th>\n",
       "      <td>42700746</td>\n",
       "      <td>177308173</td>\n",
       "      <td>Very nice people! They helped me with whatever...</td>\n",
       "    </tr>\n",
       "    <tr>\n",
       "      <th>469974</th>\n",
       "      <td>42705436</td>\n",
       "      <td>4005354</td>\n",
       "      <td>Very nice flat and great stay to do a Thermen-...</td>\n",
       "    </tr>\n",
       "    <tr>\n",
       "      <th>469975</th>\n",
       "      <td>42707880</td>\n",
       "      <td>143319370</td>\n",
       "      <td>Cute,clean and quiet accommodation. Fantastic ...</td>\n",
       "    </tr>\n",
       "    <tr>\n",
       "      <th>469976</th>\n",
       "      <td>42741768</td>\n",
       "      <td>60936666</td>\n",
       "      <td>A very modern apartment in the middle of what ...</td>\n",
       "    </tr>\n",
       "    <tr>\n",
       "      <th>469977</th>\n",
       "      <td>42782957</td>\n",
       "      <td>12348831</td>\n",
       "      <td>The stay at Lisa &amp; Dennis’s place was excellen...</td>\n",
       "    </tr>\n",
       "    <tr>\n",
       "      <th>469978</th>\n",
       "      <td>42822480</td>\n",
       "      <td>196565405</td>\n",
       "      <td>Sehr zu empfehlen. Unkomplizierter Check-in, s...</td>\n",
       "    </tr>\n",
       "  </tbody>\n",
       "</table>\n",
       "</div>"
      ],
      "text/plain": [
       "        listing_id  reviewer_id  \\\n",
       "469959    42642091    299008765   \n",
       "469960    42665072     14455623   \n",
       "469961    42665072      6036216   \n",
       "469962    42665072    196311212   \n",
       "469963    42666433    126455592   \n",
       "469964    42667250    141082281   \n",
       "469965    42667250     30923871   \n",
       "469966    42667250    224507883   \n",
       "469967    42667250     33800333   \n",
       "469968    42667250    294752327   \n",
       "469969    42675475    238884559   \n",
       "469970    42678136    287767126   \n",
       "469971    42682962    340074629   \n",
       "469972    42689613    324408348   \n",
       "469973    42700746    177308173   \n",
       "469974    42705436      4005354   \n",
       "469975    42707880    143319370   \n",
       "469976    42741768     60936666   \n",
       "469977    42782957     12348831   \n",
       "469978    42822480    196565405   \n",
       "\n",
       "                                                 comments  \n",
       "469959  La estancia fue increíble. Nos dejaron cosas p...  \n",
       "469960  The apartment is clean and simple. You have to...  \n",
       "469961  Very cute and great apartment, price vs value ...  \n",
       "469962  This accommodation is not so far from Vienna h...  \n",
       "469963   Me and my friend really liked it\\nWe loved it ❤️  \n",
       "469964  Super nette Gastgeberin, kleine feine Wohnung,...  \n",
       "469965  Leticia ist sehr nett und hilfsbereit. Die Woh...  \n",
       "469966  The host canceled this reservation 21 days bef...  \n",
       "469967  The host canceled this reservation 23 days bef...  \n",
       "469968  The host canceled this reservation 27 days bef...  \n",
       "469969  The host canceled this reservation 29 days bef...  \n",
       "469970  Nette Kommunikation, unproblematischer Check-i...  \n",
       "469971  The host canceled this reservation 22 days bef...  \n",
       "469972  Die Wohnung ist neu renoviert und sehr schön e...  \n",
       "469973  Very nice people! They helped me with whatever...  \n",
       "469974  Very nice flat and great stay to do a Thermen-...  \n",
       "469975  Cute,clean and quiet accommodation. Fantastic ...  \n",
       "469976  A very modern apartment in the middle of what ...  \n",
       "469977  The stay at Lisa & Dennis’s place was excellen...  \n",
       "469978  Sehr zu empfehlen. Unkomplizierter Check-in, s...  "
      ]
     },
     "execution_count": 13,
     "metadata": {},
     "output_type": "execute_result"
    }
   ],
   "source": [
    "dataset.tail(20)"
   ]
  },
  {
   "cell_type": "code",
   "execution_count": 11,
   "metadata": {},
   "outputs": [
    {
     "data": {
      "text/plain": [
       "'This accommodation is not so far from Vienna hbf station. Alexander is very kind and contacted us frequently. If you choose this accommodation, you can be got a rare experience!\\n\\nこの宿はｳｨｰﾝ中央駅からそんなに遠く離れていません｡Alexanderさんは頻繁に連絡をくれるため､とても親切で安心できます｡この宿では少し珍しい体験をできるかもしれません!'"
      ]
     },
     "execution_count": 11,
     "metadata": {},
     "output_type": "execute_result"
    }
   ],
   "source": [
    "dataset['comments'][469962]"
   ]
  },
  {
   "cell_type": "code",
   "execution_count": 12,
   "metadata": {},
   "outputs": [
    {
     "data": {
      "text/plain": [
       "'Me and my friend really liked it\\nWe loved it ❤️'"
      ]
     },
     "execution_count": 12,
     "metadata": {},
     "output_type": "execute_result"
    }
   ],
   "source": [
    "dataset['comments'][469963]"
   ]
  },
  {
   "cell_type": "markdown",
   "metadata": {},
   "source": [
    "The first comment above was originally in japanese and was probably automatically translated on/by Airbnb. \n",
    "\n",
    "As it can be seen, the dataset contains comments in multiple languages and emojis. "
   ]
  },
  {
   "cell_type": "markdown",
   "metadata": {},
   "source": [
    "## Data cleaning \n",
    "\n",
    "\n",
    "The objective of this notebook is getting the polarity scores of each review.  \n",
    "\n",
    "Among the advantages of VADER is that this model does not require training data and that it produces very good results when applied to online data, and can also analyze emoticons or abbreviations specific to the language used on the web."
   ]
  },
  {
   "cell_type": "code",
   "execution_count": 14,
   "metadata": {},
   "outputs": [],
   "source": [
    "# define function for removing html tags and some re\n",
    "def unescape_data(textData):\n",
    "    textData = re.sub(r'[\\r|\\n|\\t]', r' ', textData)\n",
    "    textData = html.parser.unescape(textData)\n",
    "    return textData"
   ]
  },
  {
   "cell_type": "code",
   "execution_count": 14,
   "metadata": {},
   "outputs": [],
   "source": [
    "## define function for cleaning reviews sentences \n",
    "#def clean_data(textData):\n",
    "#    textData = re.sub(r'[?|$|.|!|&|\\r|\\n|;|-|,|:|\\d+]', r' ', textData)\n",
    "#    textData = html.parser.unescape(textData)\n",
    "#    return textData"
   ]
  },
  {
   "cell_type": "code",
   "execution_count": 17,
   "metadata": {},
   "outputs": [],
   "source": [
    "length = len(dataset.comments)"
   ]
  },
  {
   "cell_type": "code",
   "execution_count": 16,
   "metadata": {},
   "outputs": [
    {
     "name": "stdout",
     "output_type": "stream",
     "text": [
      "Review count 469979\n"
     ]
    }
   ],
   "source": [
    "#unescape html and a bit of cleaning - removing \\n and\\r\n",
    "print(\"Review count\",length)\n",
    "for i in range(0,length):\n",
    "    dataset.comments.values[i] = unescape_data(dataset.comments.values[i])"
   ]
  },
  {
   "cell_type": "code",
   "execution_count": 19,
   "metadata": {},
   "outputs": [
    {
     "data": {
      "text/plain": [
       "'This accommodation is not so far from Vienna hbf station. Alexander is very kind and contacted us frequently. If you choose this accommodation, you can be got a rare experience!  この宿はｳｨｰﾝ中央駅からそんなに遠く離れていません｡Alexanderさんは頻繁に連絡をくれるため､とても親切で安心できます｡この宿では少し珍しい体験をできるかもしれません!'"
      ]
     },
     "execution_count": 19,
     "metadata": {},
     "output_type": "execute_result"
    }
   ],
   "source": [
    "dataset['comments'][469962]"
   ]
  },
  {
   "cell_type": "code",
   "execution_count": 18,
   "metadata": {},
   "outputs": [
    {
     "data": {
      "text/plain": [
       "'Me and my friend really liked it We loved it ❤️'"
      ]
     },
     "execution_count": 18,
     "metadata": {},
     "output_type": "execute_result"
    }
   ],
   "source": [
    "dataset['comments'][469963]"
   ]
  },
  {
   "cell_type": "markdown",
   "metadata": {},
   "source": [
    "The pos, neg, neu and compound metrics will be multiplied by 100 for better representation."
   ]
  },
  {
   "cell_type": "code",
   "execution_count": 20,
   "metadata": {},
   "outputs": [],
   "source": [
    "#Return a float for sentiment strength based on the input text. \n",
    "\n",
    "sentiment_analyzer = SentimentIntensityAnalyzer()\n",
    "\n",
    "positive_rating = []\n",
    "negative_rating = []\n",
    "neutral_rating = []\n",
    "compound_rating = []\n",
    "\n",
    "for i in range(0,length):\n",
    "    score = sentiment_analyzer.polarity_scores(dataset.comments.values[i])\n",
    "    positive_rating.append(score['pos']*100)\n",
    "    negative_rating.append(score['neg']*100)\n",
    "    neutral_rating.append(score['neu']*100)\n",
    "    compound_rating.append(score['compound']*100)"
   ]
  },
  {
   "cell_type": "code",
   "execution_count": 22,
   "metadata": {},
   "outputs": [],
   "source": [
    "dataset[\"Positive\"] = np.array(positive_rating)\n",
    "dataset[\"Negative\"] = np.array(negative_rating)\n",
    "dataset[\"Neutral\"] = np.array(neutral_rating)\n",
    "dataset[\"Compound\"] = np.array(compound_rating)"
   ]
  },
  {
   "cell_type": "code",
   "execution_count": 20,
   "metadata": {},
   "outputs": [
    {
     "data": {
      "text/plain": [
       "listing_id     0\n",
       "reviewer_id    0\n",
       "comments       0\n",
       "Positive       0\n",
       "Negative       0\n",
       "Neutral        0\n",
       "Compound       0\n",
       "dtype: int64"
      ]
     },
     "execution_count": 20,
     "metadata": {},
     "output_type": "execute_result"
    }
   ],
   "source": [
    "dataset.isna().sum()"
   ]
  },
  {
   "cell_type": "code",
   "execution_count": 23,
   "metadata": {},
   "outputs": [
    {
     "data": {
      "text/html": [
       "<div>\n",
       "<style scoped>\n",
       "    .dataframe tbody tr th:only-of-type {\n",
       "        vertical-align: middle;\n",
       "    }\n",
       "\n",
       "    .dataframe tbody tr th {\n",
       "        vertical-align: top;\n",
       "    }\n",
       "\n",
       "    .dataframe thead th {\n",
       "        text-align: right;\n",
       "    }\n",
       "</style>\n",
       "<table border=\"1\" class=\"dataframe\">\n",
       "  <thead>\n",
       "    <tr style=\"text-align: right;\">\n",
       "      <th></th>\n",
       "      <th>listing_id</th>\n",
       "      <th>reviewer_id</th>\n",
       "      <th>comments</th>\n",
       "      <th>Positive</th>\n",
       "      <th>Negative</th>\n",
       "      <th>Neutral</th>\n",
       "      <th>Compound</th>\n",
       "    </tr>\n",
       "  </thead>\n",
       "  <tbody>\n",
       "    <tr>\n",
       "      <th>0</th>\n",
       "      <td>15883</td>\n",
       "      <td>30537860</td>\n",
       "      <td>If you need a clean, comfortable place to stay...</td>\n",
       "      <td>24.1</td>\n",
       "      <td>5.8</td>\n",
       "      <td>70.0</td>\n",
       "      <td>94.80</td>\n",
       "    </tr>\n",
       "    <tr>\n",
       "      <th>1</th>\n",
       "      <td>15883</td>\n",
       "      <td>37529754</td>\n",
       "      <td>It's so nice to be in the house! It's a peace ...</td>\n",
       "      <td>53.4</td>\n",
       "      <td>0.0</td>\n",
       "      <td>46.6</td>\n",
       "      <td>96.04</td>\n",
       "    </tr>\n",
       "    <tr>\n",
       "      <th>2</th>\n",
       "      <td>15883</td>\n",
       "      <td>3147341</td>\n",
       "      <td>A beautiful place, uniquely decorated showing ...</td>\n",
       "      <td>22.4</td>\n",
       "      <td>5.2</td>\n",
       "      <td>72.4</td>\n",
       "      <td>92.98</td>\n",
       "    </tr>\n",
       "    <tr>\n",
       "      <th>3</th>\n",
       "      <td>15883</td>\n",
       "      <td>29518067</td>\n",
       "      <td>Eine sehr schöne Unterkunft in einem privaten ...</td>\n",
       "      <td>0.0</td>\n",
       "      <td>0.0</td>\n",
       "      <td>100.0</td>\n",
       "      <td>0.00</td>\n",
       "    </tr>\n",
       "    <tr>\n",
       "      <th>4</th>\n",
       "      <td>15883</td>\n",
       "      <td>36016357</td>\n",
       "      <td>It was a very pleasant stay. Excellent locatio...</td>\n",
       "      <td>62.2</td>\n",
       "      <td>0.0</td>\n",
       "      <td>37.8</td>\n",
       "      <td>92.08</td>\n",
       "    </tr>\n",
       "    <tr>\n",
       "      <th>5</th>\n",
       "      <td>15883</td>\n",
       "      <td>5706500</td>\n",
       "      <td>Eva's place is the perfect place to stay while...</td>\n",
       "      <td>16.1</td>\n",
       "      <td>0.0</td>\n",
       "      <td>83.9</td>\n",
       "      <td>77.13</td>\n",
       "    </tr>\n",
       "    <tr>\n",
       "      <th>6</th>\n",
       "      <td>15883</td>\n",
       "      <td>118138020</td>\n",
       "      <td>Eva has created a unique and beautiful Bed and...</td>\n",
       "      <td>28.9</td>\n",
       "      <td>3.3</td>\n",
       "      <td>67.7</td>\n",
       "      <td>95.54</td>\n",
       "    </tr>\n",
       "    <tr>\n",
       "      <th>7</th>\n",
       "      <td>15883</td>\n",
       "      <td>11338741</td>\n",
       "      <td>Der Aufenthalt bei Eva war zu meiner vollsten ...</td>\n",
       "      <td>4.2</td>\n",
       "      <td>29.3</td>\n",
       "      <td>66.5</td>\n",
       "      <td>-97.61</td>\n",
       "    </tr>\n",
       "    <tr>\n",
       "      <th>8</th>\n",
       "      <td>15883</td>\n",
       "      <td>142176049</td>\n",
       "      <td>Eva was a great host, very responsive and extr...</td>\n",
       "      <td>30.4</td>\n",
       "      <td>0.0</td>\n",
       "      <td>69.6</td>\n",
       "      <td>96.21</td>\n",
       "    </tr>\n",
       "    <tr>\n",
       "      <th>9</th>\n",
       "      <td>15883</td>\n",
       "      <td>14187109</td>\n",
       "      <td>Nice place to stay and relax and be taken care...</td>\n",
       "      <td>38.6</td>\n",
       "      <td>0.0</td>\n",
       "      <td>61.4</td>\n",
       "      <td>93.37</td>\n",
       "    </tr>\n",
       "    <tr>\n",
       "      <th>10</th>\n",
       "      <td>15883</td>\n",
       "      <td>53056209</td>\n",
       "      <td>Breakfast was the best part of the stay, place...</td>\n",
       "      <td>49.2</td>\n",
       "      <td>0.0</td>\n",
       "      <td>50.8</td>\n",
       "      <td>86.58</td>\n",
       "    </tr>\n",
       "    <tr>\n",
       "      <th>11</th>\n",
       "      <td>38768</td>\n",
       "      <td>281880</td>\n",
       "      <td>Hannes' is nice.  Good location next to the me...</td>\n",
       "      <td>40.8</td>\n",
       "      <td>22.5</td>\n",
       "      <td>36.7</td>\n",
       "      <td>61.24</td>\n",
       "    </tr>\n",
       "    <tr>\n",
       "      <th>12</th>\n",
       "      <td>38768</td>\n",
       "      <td>389656</td>\n",
       "      <td>Hannes made sure that we he would be there at ...</td>\n",
       "      <td>22.2</td>\n",
       "      <td>0.0</td>\n",
       "      <td>77.8</td>\n",
       "      <td>85.19</td>\n",
       "    </tr>\n",
       "    <tr>\n",
       "      <th>13</th>\n",
       "      <td>38768</td>\n",
       "      <td>936547</td>\n",
       "      <td>Hannes' apartment was great, really clean and ...</td>\n",
       "      <td>31.5</td>\n",
       "      <td>0.0</td>\n",
       "      <td>68.5</td>\n",
       "      <td>97.18</td>\n",
       "    </tr>\n",
       "    <tr>\n",
       "      <th>14</th>\n",
       "      <td>38768</td>\n",
       "      <td>808110</td>\n",
       "      <td>great place, great location, great host</td>\n",
       "      <td>80.4</td>\n",
       "      <td>0.0</td>\n",
       "      <td>19.6</td>\n",
       "      <td>92.31</td>\n",
       "    </tr>\n",
       "    <tr>\n",
       "      <th>15</th>\n",
       "      <td>38768</td>\n",
       "      <td>1190454</td>\n",
       "      <td>The apartment is great: clean, nice and functi...</td>\n",
       "      <td>33.4</td>\n",
       "      <td>0.0</td>\n",
       "      <td>66.6</td>\n",
       "      <td>96.42</td>\n",
       "    </tr>\n",
       "    <tr>\n",
       "      <th>16</th>\n",
       "      <td>38768</td>\n",
       "      <td>1269717</td>\n",
       "      <td>Hannes was very accommodating and the apartmen...</td>\n",
       "      <td>31.8</td>\n",
       "      <td>0.0</td>\n",
       "      <td>68.2</td>\n",
       "      <td>72.45</td>\n",
       "    </tr>\n",
       "    <tr>\n",
       "      <th>17</th>\n",
       "      <td>38768</td>\n",
       "      <td>1369133</td>\n",
       "      <td>Very nice stay in Viena. Hannes appartment is ...</td>\n",
       "      <td>13.3</td>\n",
       "      <td>2.2</td>\n",
       "      <td>84.5</td>\n",
       "      <td>90.96</td>\n",
       "    </tr>\n",
       "    <tr>\n",
       "      <th>18</th>\n",
       "      <td>38768</td>\n",
       "      <td>1137379</td>\n",
       "      <td>The app was great. Beautiful, clean and exactl...</td>\n",
       "      <td>64.8</td>\n",
       "      <td>0.0</td>\n",
       "      <td>35.2</td>\n",
       "      <td>98.26</td>\n",
       "    </tr>\n",
       "    <tr>\n",
       "      <th>19</th>\n",
       "      <td>38768</td>\n",
       "      <td>1385874</td>\n",
       "      <td>The apartment was very confortable and was sui...</td>\n",
       "      <td>18.2</td>\n",
       "      <td>0.0</td>\n",
       "      <td>81.8</td>\n",
       "      <td>71.84</td>\n",
       "    </tr>\n",
       "  </tbody>\n",
       "</table>\n",
       "</div>"
      ],
      "text/plain": [
       "    listing_id  reviewer_id  \\\n",
       "0        15883     30537860   \n",
       "1        15883     37529754   \n",
       "2        15883      3147341   \n",
       "3        15883     29518067   \n",
       "4        15883     36016357   \n",
       "5        15883      5706500   \n",
       "6        15883    118138020   \n",
       "7        15883     11338741   \n",
       "8        15883    142176049   \n",
       "9        15883     14187109   \n",
       "10       15883     53056209   \n",
       "11       38768       281880   \n",
       "12       38768       389656   \n",
       "13       38768       936547   \n",
       "14       38768       808110   \n",
       "15       38768      1190454   \n",
       "16       38768      1269717   \n",
       "17       38768      1369133   \n",
       "18       38768      1137379   \n",
       "19       38768      1385874   \n",
       "\n",
       "                                             comments  Positive  Negative  \\\n",
       "0   If you need a clean, comfortable place to stay...      24.1       5.8   \n",
       "1   It's so nice to be in the house! It's a peace ...      53.4       0.0   \n",
       "2   A beautiful place, uniquely decorated showing ...      22.4       5.2   \n",
       "3   Eine sehr schöne Unterkunft in einem privaten ...       0.0       0.0   \n",
       "4   It was a very pleasant stay. Excellent locatio...      62.2       0.0   \n",
       "5   Eva's place is the perfect place to stay while...      16.1       0.0   \n",
       "6   Eva has created a unique and beautiful Bed and...      28.9       3.3   \n",
       "7   Der Aufenthalt bei Eva war zu meiner vollsten ...       4.2      29.3   \n",
       "8   Eva was a great host, very responsive and extr...      30.4       0.0   \n",
       "9   Nice place to stay and relax and be taken care...      38.6       0.0   \n",
       "10  Breakfast was the best part of the stay, place...      49.2       0.0   \n",
       "11  Hannes' is nice.  Good location next to the me...      40.8      22.5   \n",
       "12  Hannes made sure that we he would be there at ...      22.2       0.0   \n",
       "13  Hannes' apartment was great, really clean and ...      31.5       0.0   \n",
       "14            great place, great location, great host      80.4       0.0   \n",
       "15  The apartment is great: clean, nice and functi...      33.4       0.0   \n",
       "16  Hannes was very accommodating and the apartmen...      31.8       0.0   \n",
       "17  Very nice stay in Viena. Hannes appartment is ...      13.3       2.2   \n",
       "18  The app was great. Beautiful, clean and exactl...      64.8       0.0   \n",
       "19  The apartment was very confortable and was sui...      18.2       0.0   \n",
       "\n",
       "    Neutral  Compound  \n",
       "0      70.0     94.80  \n",
       "1      46.6     96.04  \n",
       "2      72.4     92.98  \n",
       "3     100.0      0.00  \n",
       "4      37.8     92.08  \n",
       "5      83.9     77.13  \n",
       "6      67.7     95.54  \n",
       "7      66.5    -97.61  \n",
       "8      69.6     96.21  \n",
       "9      61.4     93.37  \n",
       "10     50.8     86.58  \n",
       "11     36.7     61.24  \n",
       "12     77.8     85.19  \n",
       "13     68.5     97.18  \n",
       "14     19.6     92.31  \n",
       "15     66.6     96.42  \n",
       "16     68.2     72.45  \n",
       "17     84.5     90.96  \n",
       "18     35.2     98.26  \n",
       "19     81.8     71.84  "
      ]
     },
     "execution_count": 23,
     "metadata": {},
     "output_type": "execute_result"
    }
   ],
   "source": [
    "dataset.head(20)"
   ]
  },
  {
   "cell_type": "markdown",
   "metadata": {},
   "source": [
    "VADER works only for English texts.\n",
    "\n",
    "The 8th reveiw in the dataset was originally written in german. The compound metric for this comment is -97; that means it's highly negative, but thetrasnlation is the following:\n",
    "\n",
    "*The stay with Eva was to my complete satisfaction. The communication was super friendly and Eva was always available and she replied promptly to messages. The property is a few streets from the main street, so there is no street noise and free parking in front of the door. The room was exactly as described. Breakfast was varied and more than sufficient. I would definitely come back.*\n",
    "\n",
    "This is the reason why the comments will be filtered as to keep only english reviews.\n",
    "\n",
    "The polarity metrics for non-english reviews are not reliable. The non-english reviews would have to be translated first; the [translation](https://pypi.org/project/google-cloud-translate/) of this data could take days (with [time.sleep()](https://realpython.com/python-sleep/) function as to not overflow the maximum requests to the Google Translate public API) or [costs 20 dollars per 1mil characters](https://cloud.google.com/translate/pricing) which for the purpose of this analysis is not feasible."
   ]
  },
  {
   "cell_type": "code",
   "execution_count": 24,
   "metadata": {},
   "outputs": [
    {
     "data": {
      "text/plain": [
       "'Der Aufenthalt bei Eva war zu meiner vollsten Zufriedenheit. Die Kommunikation war super freundlich und Eva war Jederzeit erreichbar und sie hat promt auf Nachrichten geantwortet. Die Unterkunft befindet sich ein paar Straßen von der Hauptstraße entfernt, somit gibt es keinen Straßenlärm und freie Parkplätze vor der Tür. Das Zimmer war genau so wie beschrieben. Das Frühstück war vielfältig und mehr als ausreichend. Ich würde auf alle Fälle wieder kommen.'"
      ]
     },
     "execution_count": 24,
     "metadata": {},
     "output_type": "execute_result"
    }
   ],
   "source": [
    "dataset['comments'][7]"
   ]
  },
  {
   "cell_type": "code",
   "execution_count": 25,
   "metadata": {},
   "outputs": [],
   "source": [
    "dataset.to_csv('./vienna_data/reviews_polarity.csv',index=False)"
   ]
  }
 ],
 "metadata": {
  "kernelspec": {
   "display_name": "Python 3",
   "language": "python",
   "name": "python3"
  },
  "language_info": {
   "codemirror_mode": {
    "name": "ipython",
    "version": 3
   },
   "file_extension": ".py",
   "mimetype": "text/x-python",
   "name": "python",
   "nbconvert_exporter": "python",
   "pygments_lexer": "ipython3",
   "version": "3.7.6"
  }
 },
 "nbformat": 4,
 "nbformat_minor": 4
}
