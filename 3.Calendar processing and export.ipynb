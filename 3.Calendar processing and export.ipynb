{
 "cells": [
  {
   "cell_type": "markdown",
   "metadata": {},
   "source": [
    "## Module imports and global settings"
   ]
  },
  {
   "cell_type": "code",
   "execution_count": 3,
   "metadata": {},
   "outputs": [],
   "source": [
    "import pandas as pd\n",
    "import numpy as np\n",
    "#import datetime\n",
    "import matplotlib.pyplot as plt\n",
    "import seaborn as sns\n",
    "import holidays\n",
    "\n",
    "#settings\n",
    "pd.set_option('float_format', '{:f}'.format)"
   ]
  },
  {
   "cell_type": "code",
   "execution_count": 4,
   "metadata": {},
   "outputs": [],
   "source": [
    "calendar = pd.read_csv('D:/disertation/project/vienna_data/raw/calendar_17_03_2020.csv')"
   ]
  },
  {
   "cell_type": "code",
   "execution_count": 5,
   "metadata": {},
   "outputs": [
    {
     "name": "stdout",
     "output_type": "stream",
     "text": [
      "Setul de date inițial conține 4826810 rânduri\n"
     ]
    },
    {
     "data": {
      "text/html": [
       "<div>\n",
       "<style scoped>\n",
       "    .dataframe tbody tr th:only-of-type {\n",
       "        vertical-align: middle;\n",
       "    }\n",
       "\n",
       "    .dataframe tbody tr th {\n",
       "        vertical-align: top;\n",
       "    }\n",
       "\n",
       "    .dataframe thead th {\n",
       "        text-align: right;\n",
       "    }\n",
       "</style>\n",
       "<table border=\"1\" class=\"dataframe\">\n",
       "  <thead>\n",
       "    <tr style=\"text-align: right;\">\n",
       "      <th></th>\n",
       "      <th>listing_id</th>\n",
       "      <th>date</th>\n",
       "      <th>available</th>\n",
       "      <th>price</th>\n",
       "      <th>adjusted_price</th>\n",
       "      <th>minimum_nights</th>\n",
       "      <th>maximum_nights</th>\n",
       "    </tr>\n",
       "  </thead>\n",
       "  <tbody>\n",
       "    <tr>\n",
       "      <th>0</th>\n",
       "      <td>457863</td>\n",
       "      <td>2020-03-17</td>\n",
       "      <td>f</td>\n",
       "      <td>$70.00</td>\n",
       "      <td>$70.00</td>\n",
       "      <td>1.000000</td>\n",
       "      <td>14.000000</td>\n",
       "    </tr>\n",
       "    <tr>\n",
       "      <th>1</th>\n",
       "      <td>222614</td>\n",
       "      <td>2020-03-17</td>\n",
       "      <td>f</td>\n",
       "      <td>$60.00</td>\n",
       "      <td>$60.00</td>\n",
       "      <td>2.000000</td>\n",
       "      <td>21.000000</td>\n",
       "    </tr>\n",
       "    <tr>\n",
       "      <th>2</th>\n",
       "      <td>222614</td>\n",
       "      <td>2020-03-18</td>\n",
       "      <td>t</td>\n",
       "      <td>$60.00</td>\n",
       "      <td>$60.00</td>\n",
       "      <td>2.000000</td>\n",
       "      <td>21.000000</td>\n",
       "    </tr>\n",
       "    <tr>\n",
       "      <th>3</th>\n",
       "      <td>222614</td>\n",
       "      <td>2020-03-19</td>\n",
       "      <td>t</td>\n",
       "      <td>$60.00</td>\n",
       "      <td>$60.00</td>\n",
       "      <td>2.000000</td>\n",
       "      <td>21.000000</td>\n",
       "    </tr>\n",
       "    <tr>\n",
       "      <th>4</th>\n",
       "      <td>222614</td>\n",
       "      <td>2020-03-20</td>\n",
       "      <td>t</td>\n",
       "      <td>$60.00</td>\n",
       "      <td>$60.00</td>\n",
       "      <td>2.000000</td>\n",
       "      <td>21.000000</td>\n",
       "    </tr>\n",
       "  </tbody>\n",
       "</table>\n",
       "</div>"
      ],
      "text/plain": [
       "   listing_id        date available   price adjusted_price  minimum_nights  \\\n",
       "0      457863  2020-03-17         f  $70.00         $70.00        1.000000   \n",
       "1      222614  2020-03-17         f  $60.00         $60.00        2.000000   \n",
       "2      222614  2020-03-18         t  $60.00         $60.00        2.000000   \n",
       "3      222614  2020-03-19         t  $60.00         $60.00        2.000000   \n",
       "4      222614  2020-03-20         t  $60.00         $60.00        2.000000   \n",
       "\n",
       "   maximum_nights  \n",
       "0       14.000000  \n",
       "1       21.000000  \n",
       "2       21.000000  \n",
       "3       21.000000  \n",
       "4       21.000000  "
      ]
     },
     "execution_count": 5,
     "metadata": {},
     "output_type": "execute_result"
    }
   ],
   "source": [
    "print(f\"Setul de date inițial conține {len(calendar)} rânduri\")\n",
    "calendar.head()"
   ]
  },
  {
   "cell_type": "code",
   "execution_count": 6,
   "metadata": {},
   "outputs": [
    {
     "data": {
      "text/html": [
       "<div>\n",
       "<style scoped>\n",
       "    .dataframe tbody tr th:only-of-type {\n",
       "        vertical-align: middle;\n",
       "    }\n",
       "\n",
       "    .dataframe tbody tr th {\n",
       "        vertical-align: top;\n",
       "    }\n",
       "\n",
       "    .dataframe thead th {\n",
       "        text-align: right;\n",
       "    }\n",
       "</style>\n",
       "<table border=\"1\" class=\"dataframe\">\n",
       "  <thead>\n",
       "    <tr style=\"text-align: right;\">\n",
       "      <th></th>\n",
       "      <th>listing_id</th>\n",
       "      <th>date</th>\n",
       "      <th>available</th>\n",
       "      <th>price</th>\n",
       "      <th>adjusted_price</th>\n",
       "      <th>minimum_nights</th>\n",
       "      <th>maximum_nights</th>\n",
       "    </tr>\n",
       "  </thead>\n",
       "  <tbody>\n",
       "    <tr>\n",
       "      <th>4826805</th>\n",
       "      <td>42926580</td>\n",
       "      <td>2021-03-12</td>\n",
       "      <td>f</td>\n",
       "      <td>$30.00</td>\n",
       "      <td>$30.00</td>\n",
       "      <td>13.000000</td>\n",
       "      <td>1125.000000</td>\n",
       "    </tr>\n",
       "    <tr>\n",
       "      <th>4826806</th>\n",
       "      <td>42926580</td>\n",
       "      <td>2021-03-13</td>\n",
       "      <td>f</td>\n",
       "      <td>$30.00</td>\n",
       "      <td>$30.00</td>\n",
       "      <td>13.000000</td>\n",
       "      <td>1125.000000</td>\n",
       "    </tr>\n",
       "    <tr>\n",
       "      <th>4826807</th>\n",
       "      <td>42926580</td>\n",
       "      <td>2021-03-14</td>\n",
       "      <td>f</td>\n",
       "      <td>$30.00</td>\n",
       "      <td>$30.00</td>\n",
       "      <td>13.000000</td>\n",
       "      <td>1125.000000</td>\n",
       "    </tr>\n",
       "    <tr>\n",
       "      <th>4826808</th>\n",
       "      <td>42926580</td>\n",
       "      <td>2021-03-15</td>\n",
       "      <td>f</td>\n",
       "      <td>$30.00</td>\n",
       "      <td>$30.00</td>\n",
       "      <td>13.000000</td>\n",
       "      <td>1125.000000</td>\n",
       "    </tr>\n",
       "    <tr>\n",
       "      <th>4826809</th>\n",
       "      <td>42926580</td>\n",
       "      <td>2021-03-16</td>\n",
       "      <td>f</td>\n",
       "      <td>$30.00</td>\n",
       "      <td>$30.00</td>\n",
       "      <td>13.000000</td>\n",
       "      <td>1125.000000</td>\n",
       "    </tr>\n",
       "  </tbody>\n",
       "</table>\n",
       "</div>"
      ],
      "text/plain": [
       "         listing_id        date available   price adjusted_price  \\\n",
       "4826805    42926580  2021-03-12         f  $30.00         $30.00   \n",
       "4826806    42926580  2021-03-13         f  $30.00         $30.00   \n",
       "4826807    42926580  2021-03-14         f  $30.00         $30.00   \n",
       "4826808    42926580  2021-03-15         f  $30.00         $30.00   \n",
       "4826809    42926580  2021-03-16         f  $30.00         $30.00   \n",
       "\n",
       "         minimum_nights  maximum_nights  \n",
       "4826805       13.000000     1125.000000  \n",
       "4826806       13.000000     1125.000000  \n",
       "4826807       13.000000     1125.000000  \n",
       "4826808       13.000000     1125.000000  \n",
       "4826809       13.000000     1125.000000  "
      ]
     },
     "execution_count": 6,
     "metadata": {},
     "output_type": "execute_result"
    }
   ],
   "source": [
    "calendar.tail()"
   ]
  },
  {
   "cell_type": "code",
   "execution_count": 7,
   "metadata": {},
   "outputs": [
    {
     "data": {
      "text/plain": [
       "(4826810, 7)"
      ]
     },
     "execution_count": 7,
     "metadata": {},
     "output_type": "execute_result"
    }
   ],
   "source": [
    "calendar.shape"
   ]
  },
  {
   "cell_type": "code",
   "execution_count": 8,
   "metadata": {},
   "outputs": [
    {
     "data": {
      "text/plain": [
       "listing_id        0\n",
       "date              0\n",
       "available         0\n",
       "price             0\n",
       "adjusted_price    0\n",
       "minimum_nights    2\n",
       "maximum_nights    2\n",
       "dtype: int64"
      ]
     },
     "execution_count": 8,
     "metadata": {},
     "output_type": "execute_result"
    }
   ],
   "source": [
    "calendar.isna().sum()"
   ]
  },
  {
   "cell_type": "code",
   "execution_count": 9,
   "metadata": {},
   "outputs": [],
   "source": [
    "# drop minimum and maximum nights columns\n",
    "calendar.drop(['minimum_nights', 'maximum_nights'], axis = 1, inplace = True)"
   ]
  },
  {
   "cell_type": "markdown",
   "metadata": {},
   "source": [
    "## Price column manipulation"
   ]
  },
  {
   "cell_type": "markdown",
   "metadata": {},
   "source": [
    "The price column will be modified the same way as it was for the listings dataset, for consistent conclusions."
   ]
  },
  {
   "cell_type": "code",
   "execution_count": 10,
   "metadata": {},
   "outputs": [
    {
     "data": {
      "text/html": [
       "<div>\n",
       "<style scoped>\n",
       "    .dataframe tbody tr th:only-of-type {\n",
       "        vertical-align: middle;\n",
       "    }\n",
       "\n",
       "    .dataframe tbody tr th {\n",
       "        vertical-align: top;\n",
       "    }\n",
       "\n",
       "    .dataframe thead th {\n",
       "        text-align: right;\n",
       "    }\n",
       "</style>\n",
       "<table border=\"1\" class=\"dataframe\">\n",
       "  <thead>\n",
       "    <tr style=\"text-align: right;\">\n",
       "      <th></th>\n",
       "      <th>listing_id</th>\n",
       "      <th>date</th>\n",
       "      <th>available</th>\n",
       "      <th>price</th>\n",
       "      <th>adjusted_price</th>\n",
       "    </tr>\n",
       "  </thead>\n",
       "  <tbody>\n",
       "    <tr>\n",
       "      <th>0</th>\n",
       "      <td>457863</td>\n",
       "      <td>2020-03-17</td>\n",
       "      <td>f</td>\n",
       "      <td>70.000000</td>\n",
       "      <td>70.000000</td>\n",
       "    </tr>\n",
       "    <tr>\n",
       "      <th>1</th>\n",
       "      <td>222614</td>\n",
       "      <td>2020-03-17</td>\n",
       "      <td>f</td>\n",
       "      <td>60.000000</td>\n",
       "      <td>60.000000</td>\n",
       "    </tr>\n",
       "    <tr>\n",
       "      <th>2</th>\n",
       "      <td>222614</td>\n",
       "      <td>2020-03-18</td>\n",
       "      <td>t</td>\n",
       "      <td>60.000000</td>\n",
       "      <td>60.000000</td>\n",
       "    </tr>\n",
       "    <tr>\n",
       "      <th>3</th>\n",
       "      <td>222614</td>\n",
       "      <td>2020-03-19</td>\n",
       "      <td>t</td>\n",
       "      <td>60.000000</td>\n",
       "      <td>60.000000</td>\n",
       "    </tr>\n",
       "    <tr>\n",
       "      <th>4</th>\n",
       "      <td>222614</td>\n",
       "      <td>2020-03-20</td>\n",
       "      <td>t</td>\n",
       "      <td>60.000000</td>\n",
       "      <td>60.000000</td>\n",
       "    </tr>\n",
       "  </tbody>\n",
       "</table>\n",
       "</div>"
      ],
      "text/plain": [
       "   listing_id        date available     price  adjusted_price\n",
       "0      457863  2020-03-17         f 70.000000       70.000000\n",
       "1      222614  2020-03-17         f 60.000000       60.000000\n",
       "2      222614  2020-03-18         t 60.000000       60.000000\n",
       "3      222614  2020-03-19         t 60.000000       60.000000\n",
       "4      222614  2020-03-20         t 60.000000       60.000000"
      ]
     },
     "execution_count": 10,
     "metadata": {},
     "output_type": "execute_result"
    }
   ],
   "source": [
    "# remove $ and convert to float\n",
    "calendar['price'] = calendar['price'].replace('[\\$,]', '', regex=True).astype(float)\n",
    "calendar['adjusted_price'] = calendar['adjusted_price'].replace('[\\$,]', '', regex=True).astype(float)\n",
    "calendar.head()"
   ]
  },
  {
   "cell_type": "code",
   "execution_count": 11,
   "metadata": {},
   "outputs": [
    {
     "data": {
      "text/html": [
       "<div>\n",
       "<style scoped>\n",
       "    .dataframe tbody tr th:only-of-type {\n",
       "        vertical-align: middle;\n",
       "    }\n",
       "\n",
       "    .dataframe tbody tr th {\n",
       "        vertical-align: top;\n",
       "    }\n",
       "\n",
       "    .dataframe thead th {\n",
       "        text-align: right;\n",
       "    }\n",
       "</style>\n",
       "<table border=\"1\" class=\"dataframe\">\n",
       "  <thead>\n",
       "    <tr style=\"text-align: right;\">\n",
       "      <th></th>\n",
       "      <th>price</th>\n",
       "      <th>adjusted_price</th>\n",
       "    </tr>\n",
       "  </thead>\n",
       "  <tbody>\n",
       "    <tr>\n",
       "      <th>count</th>\n",
       "      <td>4826810.000000</td>\n",
       "      <td>4826810.000000</td>\n",
       "    </tr>\n",
       "    <tr>\n",
       "      <th>mean</th>\n",
       "      <td>87.368674</td>\n",
       "      <td>87.339306</td>\n",
       "    </tr>\n",
       "    <tr>\n",
       "      <th>std</th>\n",
       "      <td>248.600378</td>\n",
       "      <td>248.734134</td>\n",
       "    </tr>\n",
       "    <tr>\n",
       "      <th>min</th>\n",
       "      <td>9.000000</td>\n",
       "      <td>9.000000</td>\n",
       "    </tr>\n",
       "    <tr>\n",
       "      <th>25%</th>\n",
       "      <td>40.000000</td>\n",
       "      <td>40.000000</td>\n",
       "    </tr>\n",
       "    <tr>\n",
       "      <th>50%</th>\n",
       "      <td>60.000000</td>\n",
       "      <td>60.000000</td>\n",
       "    </tr>\n",
       "    <tr>\n",
       "      <th>75%</th>\n",
       "      <td>90.000000</td>\n",
       "      <td>90.000000</td>\n",
       "    </tr>\n",
       "    <tr>\n",
       "      <th>max</th>\n",
       "      <td>18837.000000</td>\n",
       "      <td>18837.000000</td>\n",
       "    </tr>\n",
       "  </tbody>\n",
       "</table>\n",
       "</div>"
      ],
      "text/plain": [
       "               price  adjusted_price\n",
       "count 4826810.000000  4826810.000000\n",
       "mean       87.368674       87.339306\n",
       "std       248.600378      248.734134\n",
       "min         9.000000        9.000000\n",
       "25%        40.000000       40.000000\n",
       "50%        60.000000       60.000000\n",
       "75%        90.000000       90.000000\n",
       "max     18837.000000    18837.000000"
      ]
     },
     "execution_count": 11,
     "metadata": {},
     "output_type": "execute_result"
    }
   ],
   "source": [
    "calendar.describe(include = 'float')"
   ]
  },
  {
   "cell_type": "code",
   "execution_count": 15,
   "metadata": {},
   "outputs": [
    {
     "data": {
      "text/plain": [
       "87.82926932838603"
      ]
     },
     "execution_count": 15,
     "metadata": {},
     "output_type": "execute_result"
    }
   ],
   "source": [
    "### weighted average\n",
    "np.average(calendar.price, weights = calendar.listing_id)"
   ]
  },
  {
   "cell_type": "code",
   "execution_count": 27,
   "metadata": {},
   "outputs": [
    {
     "name": "stdout",
     "output_type": "stream",
     "text": [
      "Minimum price: 9.0\n",
      "Q1: 40.0\n",
      "Median price: 60.0\n",
      "Q3: 90.0\n",
      "Mean price: 87.37\n",
      "Maximum price: 18837.0\n",
      "Max treshold: 240.0\n",
      "1.8% of listings exceed the max treshold\n"
     ]
    }
   ],
   "source": [
    "print(\"Minimum price:\", calendar['price'].min())\n",
    "print(\"Q1:\",calendar['price'].quantile(0.25))\n",
    "print(\"Median price:\",calendar['price'].median())\n",
    "print(\"Q3:\",calendar['price'].quantile(0.75))\n",
    "print(\"Mean price:\",round(calendar['price'].mean(),2))\n",
    "print(\"Maximum price:\",calendar['price'].max())\n",
    "\n",
    "#Max treshold = Q3 + 3*IQR\n",
    "price_max_tresh = calendar['price'].quantile(0.75) + 3*(calendar['price'].quantile(0.75)-calendar['price'].quantile(0.25))\n",
    "print(\"Max treshold:\", price_max_tresh)\n",
    "print(f\"{round((price_max_tresh/round(len(calendar)/365,0))*100,1)}% of listings exceed the max treshold\")"
   ]
  },
  {
   "cell_type": "code",
   "execution_count": 12,
   "metadata": {},
   "outputs": [],
   "source": [
    "#dropping adjusted_price\n",
    "calendar.drop('adjusted_price', axis = 1, inplace = True)"
   ]
  },
  {
   "cell_type": "code",
   "execution_count": 13,
   "metadata": {},
   "outputs": [
    {
     "data": {
      "text/html": [
       "<div>\n",
       "<style scoped>\n",
       "    .dataframe tbody tr th:only-of-type {\n",
       "        vertical-align: middle;\n",
       "    }\n",
       "\n",
       "    .dataframe tbody tr th {\n",
       "        vertical-align: top;\n",
       "    }\n",
       "\n",
       "    .dataframe thead th {\n",
       "        text-align: right;\n",
       "    }\n",
       "</style>\n",
       "<table border=\"1\" class=\"dataframe\">\n",
       "  <thead>\n",
       "    <tr style=\"text-align: right;\">\n",
       "      <th></th>\n",
       "      <th>listing_id</th>\n",
       "      <th>date</th>\n",
       "      <th>available</th>\n",
       "      <th>price</th>\n",
       "    </tr>\n",
       "  </thead>\n",
       "  <tbody>\n",
       "    <tr>\n",
       "      <th>0</th>\n",
       "      <td>457863</td>\n",
       "      <td>2020-03-17</td>\n",
       "      <td>f</td>\n",
       "      <td>70.000000</td>\n",
       "    </tr>\n",
       "    <tr>\n",
       "      <th>1</th>\n",
       "      <td>222614</td>\n",
       "      <td>2020-03-17</td>\n",
       "      <td>f</td>\n",
       "      <td>60.000000</td>\n",
       "    </tr>\n",
       "    <tr>\n",
       "      <th>2</th>\n",
       "      <td>222614</td>\n",
       "      <td>2020-03-18</td>\n",
       "      <td>t</td>\n",
       "      <td>60.000000</td>\n",
       "    </tr>\n",
       "    <tr>\n",
       "      <th>3</th>\n",
       "      <td>222614</td>\n",
       "      <td>2020-03-19</td>\n",
       "      <td>t</td>\n",
       "      <td>60.000000</td>\n",
       "    </tr>\n",
       "    <tr>\n",
       "      <th>4</th>\n",
       "      <td>222614</td>\n",
       "      <td>2020-03-20</td>\n",
       "      <td>t</td>\n",
       "      <td>60.000000</td>\n",
       "    </tr>\n",
       "  </tbody>\n",
       "</table>\n",
       "</div>"
      ],
      "text/plain": [
       "   listing_id        date available     price\n",
       "0      457863  2020-03-17         f 70.000000\n",
       "1      222614  2020-03-17         f 60.000000\n",
       "2      222614  2020-03-18         t 60.000000\n",
       "3      222614  2020-03-19         t 60.000000\n",
       "4      222614  2020-03-20         t 60.000000"
      ]
     },
     "execution_count": 13,
     "metadata": {},
     "output_type": "execute_result"
    }
   ],
   "source": [
    "calendar.head()"
   ]
  },
  {
   "cell_type": "code",
   "execution_count": 17,
   "metadata": {},
   "outputs": [
    {
     "data": {
      "image/png": "[encoded data removed]",
      "text/plain": [
       "<Figure size 936x288 with 1 Axes>"
      ]
     },
     "metadata": {
      "needs_background": "light"
     },
     "output_type": "display_data"
    }
   ],
   "source": [
    "# Distribution of prices from £0 to £1000\n",
    "plt.figure(figsize=(13,4))\n",
    "\n",
    "calendar.price.hist(bins=100, range=(0,1000), ec='White', color = \"#757575\")\n",
    "\n",
    "plt.margins(x=0)\n",
    "plt.axvline(160, color='orange', linestyle='--', label = \"160$\", lw=3)\n",
    "plt.axvline(calendar['price'].mean(), color='#673ab7', linestyle='--', label=\"Mean price 88$\", lw=3)\n",
    "plt.axvline(calendar['price'].median(), color='#039be5', linestyle='--', label = \"Median price 60$\", lw=3)\n",
    "\n",
    "plt.title(\"Price up to 1000$/night\", fontsize=16)\n",
    "plt.xlabel(\"Price/night($)\", fontsize = 15)\n",
    "plt.ylabel(\"Nr. of listings\", fontsize = 15)\n",
    "plt.xticks(fontsize = 12)\n",
    "plt.yticks(fontsize = 12)\n",
    "\n",
    "plt.legend(loc='upper right', fontsize = 12)\n",
    "\n",
    "plt.show()"
   ]
  },
  {
   "cell_type": "code",
   "execution_count": 18,
   "metadata": {},
   "outputs": [
    {
     "data": {
      "image/png": "[encoded data removed]",
      "text/plain": [
       "<Figure size 936x288 with 1 Axes>"
      ]
     },
     "metadata": {
      "needs_background": "light"
     },
     "output_type": "display_data"
    }
   ],
   "source": [
    "# Distribution of prices from $240 upwards\n",
    "plt.figure(figsize=(13,4))\n",
    "\n",
    "calendar.price.hist(bins=100, range=(240, max(calendar.price)), ec='White', color = \"#757575\")\n",
    "\n",
    "plt.margins(x=0)\n",
    "plt.axvline(500, color='#4caf50', linestyle='--', label = \"500$\", lw=3)\n",
    "plt.axvline(1000, color='#e91e63', linestyle='--', label = \"1000$\", lw=3)\n",
    "\n",
    "plt.title(\"Price from 240 upwards\", fontsize=16)\n",
    "plt.xlabel(\"Price/night($)\", fontsize = 15)\n",
    "plt.ylabel(\"Nr of listings\", fontsize = 15)\n",
    "plt.xticks(fontsize = 12)\n",
    "plt.yticks(fontsize = 12)\n",
    "plt.legend(loc='upper right', fontsize = 12)\n",
    "plt.show()"
   ]
  },
  {
   "cell_type": "code",
   "execution_count": 28,
   "metadata": {},
   "outputs": [],
   "source": [
    "# Replacing values under £15 with £15\n",
    "calendar.loc[calendar.price <= 15, 'price'] = 15\n",
    "\n",
    "# Replacing values over £240 with £240\n",
    "calendar.loc[calendar.price >= 240, 'price'] = 240"
   ]
  },
  {
   "cell_type": "code",
   "execution_count": 29,
   "metadata": {},
   "outputs": [
    {
     "data": {
      "text/html": [
       "<div>\n",
       "<style scoped>\n",
       "    .dataframe tbody tr th:only-of-type {\n",
       "        vertical-align: middle;\n",
       "    }\n",
       "\n",
       "    .dataframe tbody tr th {\n",
       "        vertical-align: top;\n",
       "    }\n",
       "\n",
       "    .dataframe thead th {\n",
       "        text-align: right;\n",
       "    }\n",
       "</style>\n",
       "<table border=\"1\" class=\"dataframe\">\n",
       "  <thead>\n",
       "    <tr style=\"text-align: right;\">\n",
       "      <th></th>\n",
       "      <th>price</th>\n",
       "    </tr>\n",
       "  </thead>\n",
       "  <tbody>\n",
       "    <tr>\n",
       "      <th>count</th>\n",
       "      <td>4826810.000000</td>\n",
       "    </tr>\n",
       "    <tr>\n",
       "      <th>mean</th>\n",
       "      <td>74.673628</td>\n",
       "    </tr>\n",
       "    <tr>\n",
       "      <th>std</th>\n",
       "      <td>50.260775</td>\n",
       "    </tr>\n",
       "    <tr>\n",
       "      <th>min</th>\n",
       "      <td>15.000000</td>\n",
       "    </tr>\n",
       "    <tr>\n",
       "      <th>25%</th>\n",
       "      <td>40.000000</td>\n",
       "    </tr>\n",
       "    <tr>\n",
       "      <th>50%</th>\n",
       "      <td>60.000000</td>\n",
       "    </tr>\n",
       "    <tr>\n",
       "      <th>75%</th>\n",
       "      <td>90.000000</td>\n",
       "    </tr>\n",
       "    <tr>\n",
       "      <th>max</th>\n",
       "      <td>240.000000</td>\n",
       "    </tr>\n",
       "  </tbody>\n",
       "</table>\n",
       "</div>"
      ],
      "text/plain": [
       "               price\n",
       "count 4826810.000000\n",
       "mean       74.673628\n",
       "std        50.260775\n",
       "min        15.000000\n",
       "25%        40.000000\n",
       "50%        60.000000\n",
       "75%        90.000000\n",
       "max       240.000000"
      ]
     },
     "execution_count": 29,
     "metadata": {},
     "output_type": "execute_result"
    }
   ],
   "source": [
    "calendar.describe(include = 'float')"
   ]
  },
  {
   "cell_type": "markdown",
   "metadata": {},
   "source": [
    "## Adding columns to the dataframe"
   ]
  },
  {
   "cell_type": "code",
   "execution_count": 30,
   "metadata": {},
   "outputs": [],
   "source": [
    "calendar[['Year', 'Month','Day']] = calendar['date'].str.split('-',2, expand = True)"
   ]
  },
  {
   "cell_type": "code",
   "execution_count": 31,
   "metadata": {},
   "outputs": [],
   "source": [
    "calendar['date'] = pd.to_datetime(calendar['date'], errors='coerce')"
   ]
  },
  {
   "cell_type": "code",
   "execution_count": 32,
   "metadata": {},
   "outputs": [],
   "source": [
    "weekDays = (\"Monday\",\"Tuesday\",\"Wednesday\",\"Thursday\",\"Friday\",\"Saturday\",\"Sunday\")\n",
    "calendar['WeekDayNr'] = calendar['date'].dt.dayofweek\n",
    "calendar['WeekDay'] = calendar['date'].dt.day_name()"
   ]
  },
  {
   "cell_type": "code",
   "execution_count": 33,
   "metadata": {},
   "outputs": [
    {
     "data": {
      "text/html": [
       "<div>\n",
       "<style scoped>\n",
       "    .dataframe tbody tr th:only-of-type {\n",
       "        vertical-align: middle;\n",
       "    }\n",
       "\n",
       "    .dataframe tbody tr th {\n",
       "        vertical-align: top;\n",
       "    }\n",
       "\n",
       "    .dataframe thead th {\n",
       "        text-align: right;\n",
       "    }\n",
       "</style>\n",
       "<table border=\"1\" class=\"dataframe\">\n",
       "  <thead>\n",
       "    <tr style=\"text-align: right;\">\n",
       "      <th></th>\n",
       "      <th>listing_id</th>\n",
       "      <th>date</th>\n",
       "      <th>available</th>\n",
       "      <th>price</th>\n",
       "      <th>Year</th>\n",
       "      <th>Month</th>\n",
       "      <th>Day</th>\n",
       "      <th>WeekDayNr</th>\n",
       "      <th>WeekDay</th>\n",
       "    </tr>\n",
       "  </thead>\n",
       "  <tbody>\n",
       "    <tr>\n",
       "      <th>0</th>\n",
       "      <td>457863</td>\n",
       "      <td>2020-03-17</td>\n",
       "      <td>f</td>\n",
       "      <td>70.000000</td>\n",
       "      <td>2020</td>\n",
       "      <td>03</td>\n",
       "      <td>17</td>\n",
       "      <td>1</td>\n",
       "      <td>Tuesday</td>\n",
       "    </tr>\n",
       "    <tr>\n",
       "      <th>1</th>\n",
       "      <td>222614</td>\n",
       "      <td>2020-03-17</td>\n",
       "      <td>f</td>\n",
       "      <td>60.000000</td>\n",
       "      <td>2020</td>\n",
       "      <td>03</td>\n",
       "      <td>17</td>\n",
       "      <td>1</td>\n",
       "      <td>Tuesday</td>\n",
       "    </tr>\n",
       "    <tr>\n",
       "      <th>2</th>\n",
       "      <td>222614</td>\n",
       "      <td>2020-03-18</td>\n",
       "      <td>t</td>\n",
       "      <td>60.000000</td>\n",
       "      <td>2020</td>\n",
       "      <td>03</td>\n",
       "      <td>18</td>\n",
       "      <td>2</td>\n",
       "      <td>Wednesday</td>\n",
       "    </tr>\n",
       "    <tr>\n",
       "      <th>3</th>\n",
       "      <td>222614</td>\n",
       "      <td>2020-03-19</td>\n",
       "      <td>t</td>\n",
       "      <td>60.000000</td>\n",
       "      <td>2020</td>\n",
       "      <td>03</td>\n",
       "      <td>19</td>\n",
       "      <td>3</td>\n",
       "      <td>Thursday</td>\n",
       "    </tr>\n",
       "    <tr>\n",
       "      <th>4</th>\n",
       "      <td>222614</td>\n",
       "      <td>2020-03-20</td>\n",
       "      <td>t</td>\n",
       "      <td>60.000000</td>\n",
       "      <td>2020</td>\n",
       "      <td>03</td>\n",
       "      <td>20</td>\n",
       "      <td>4</td>\n",
       "      <td>Friday</td>\n",
       "    </tr>\n",
       "  </tbody>\n",
       "</table>\n",
       "</div>"
      ],
      "text/plain": [
       "   listing_id       date available     price  Year Month Day  WeekDayNr  \\\n",
       "0      457863 2020-03-17         f 70.000000  2020    03  17          1   \n",
       "1      222614 2020-03-17         f 60.000000  2020    03  17          1   \n",
       "2      222614 2020-03-18         t 60.000000  2020    03  18          2   \n",
       "3      222614 2020-03-19         t 60.000000  2020    03  19          3   \n",
       "4      222614 2020-03-20         t 60.000000  2020    03  20          4   \n",
       "\n",
       "     WeekDay  \n",
       "0    Tuesday  \n",
       "1    Tuesday  \n",
       "2  Wednesday  \n",
       "3   Thursday  \n",
       "4     Friday  "
      ]
     },
     "execution_count": 33,
     "metadata": {},
     "output_type": "execute_result"
    }
   ],
   "source": [
    "calendar.head()"
   ]
  },
  {
   "cell_type": "code",
   "execution_count": 34,
   "metadata": {},
   "outputs": [],
   "source": [
    "# Assign Season to every entry\n",
    "lookup = {\n",
    "    '01': 'Winter',\n",
    "    '02': 'Spring',\n",
    "    '03': 'Spring',\n",
    "    '04': 'Spring',\n",
    "    '05': 'Summer',\n",
    "    '06': 'Summer',\n",
    "    '07': 'Summer',\n",
    "    '08': 'Autumn',\n",
    "    '09': 'Autumn',\n",
    "    '10': 'Autumn',\n",
    "    '11': 'Winter',\n",
    "    '12': 'Winter'\n",
    "}\n",
    "calendar['Season'] = calendar['Month'].apply(lambda x: lookup[x])\n",
    "\n",
    "lookupNum = {\n",
    "    '01': 4,\n",
    "    '02': 1,\n",
    "    '03': 1,\n",
    "    '04': 1,\n",
    "    '05': 2,\n",
    "    '06': 2,\n",
    "    '07': 2,\n",
    "    '08': 3,\n",
    "    '09': 3,\n",
    "    '10': 3,\n",
    "    '11': 4,\n",
    "    '12': 4\n",
    "}\n",
    "\n",
    "calendar['Season_num'] = calendar['Month'].apply(lambda x: lookupNum[x])"
   ]
  },
  {
   "cell_type": "code",
   "execution_count": 35,
   "metadata": {},
   "outputs": [
    {
     "data": {
      "text/html": [
       "<div>\n",
       "<style scoped>\n",
       "    .dataframe tbody tr th:only-of-type {\n",
       "        vertical-align: middle;\n",
       "    }\n",
       "\n",
       "    .dataframe tbody tr th {\n",
       "        vertical-align: top;\n",
       "    }\n",
       "\n",
       "    .dataframe thead th {\n",
       "        text-align: right;\n",
       "    }\n",
       "</style>\n",
       "<table border=\"1\" class=\"dataframe\">\n",
       "  <thead>\n",
       "    <tr style=\"text-align: right;\">\n",
       "      <th></th>\n",
       "      <th>listing_id</th>\n",
       "      <th>date</th>\n",
       "      <th>available</th>\n",
       "      <th>price</th>\n",
       "      <th>Year</th>\n",
       "      <th>Month</th>\n",
       "      <th>Day</th>\n",
       "      <th>WeekDayNr</th>\n",
       "      <th>WeekDay</th>\n",
       "      <th>Season</th>\n",
       "      <th>Season_num</th>\n",
       "    </tr>\n",
       "  </thead>\n",
       "  <tbody>\n",
       "    <tr>\n",
       "      <th>0</th>\n",
       "      <td>457863</td>\n",
       "      <td>2020-03-17</td>\n",
       "      <td>f</td>\n",
       "      <td>70.000000</td>\n",
       "      <td>2020</td>\n",
       "      <td>03</td>\n",
       "      <td>17</td>\n",
       "      <td>1</td>\n",
       "      <td>Tuesday</td>\n",
       "      <td>Spring</td>\n",
       "      <td>1</td>\n",
       "    </tr>\n",
       "    <tr>\n",
       "      <th>1</th>\n",
       "      <td>222614</td>\n",
       "      <td>2020-03-17</td>\n",
       "      <td>f</td>\n",
       "      <td>60.000000</td>\n",
       "      <td>2020</td>\n",
       "      <td>03</td>\n",
       "      <td>17</td>\n",
       "      <td>1</td>\n",
       "      <td>Tuesday</td>\n",
       "      <td>Spring</td>\n",
       "      <td>1</td>\n",
       "    </tr>\n",
       "    <tr>\n",
       "      <th>2</th>\n",
       "      <td>222614</td>\n",
       "      <td>2020-03-18</td>\n",
       "      <td>t</td>\n",
       "      <td>60.000000</td>\n",
       "      <td>2020</td>\n",
       "      <td>03</td>\n",
       "      <td>18</td>\n",
       "      <td>2</td>\n",
       "      <td>Wednesday</td>\n",
       "      <td>Spring</td>\n",
       "      <td>1</td>\n",
       "    </tr>\n",
       "    <tr>\n",
       "      <th>3</th>\n",
       "      <td>222614</td>\n",
       "      <td>2020-03-19</td>\n",
       "      <td>t</td>\n",
       "      <td>60.000000</td>\n",
       "      <td>2020</td>\n",
       "      <td>03</td>\n",
       "      <td>19</td>\n",
       "      <td>3</td>\n",
       "      <td>Thursday</td>\n",
       "      <td>Spring</td>\n",
       "      <td>1</td>\n",
       "    </tr>\n",
       "    <tr>\n",
       "      <th>4</th>\n",
       "      <td>222614</td>\n",
       "      <td>2020-03-20</td>\n",
       "      <td>t</td>\n",
       "      <td>60.000000</td>\n",
       "      <td>2020</td>\n",
       "      <td>03</td>\n",
       "      <td>20</td>\n",
       "      <td>4</td>\n",
       "      <td>Friday</td>\n",
       "      <td>Spring</td>\n",
       "      <td>1</td>\n",
       "    </tr>\n",
       "  </tbody>\n",
       "</table>\n",
       "</div>"
      ],
      "text/plain": [
       "   listing_id       date available     price  Year Month Day  WeekDayNr  \\\n",
       "0      457863 2020-03-17         f 70.000000  2020    03  17          1   \n",
       "1      222614 2020-03-17         f 60.000000  2020    03  17          1   \n",
       "2      222614 2020-03-18         t 60.000000  2020    03  18          2   \n",
       "3      222614 2020-03-19         t 60.000000  2020    03  19          3   \n",
       "4      222614 2020-03-20         t 60.000000  2020    03  20          4   \n",
       "\n",
       "     WeekDay  Season  Season_num  \n",
       "0    Tuesday  Spring           1  \n",
       "1    Tuesday  Spring           1  \n",
       "2  Wednesday  Spring           1  \n",
       "3   Thursday  Spring           1  \n",
       "4     Friday  Spring           1  "
      ]
     },
     "execution_count": 35,
     "metadata": {},
     "output_type": "execute_result"
    }
   ],
   "source": [
    "calendar.head()"
   ]
  },
  {
   "cell_type": "code",
   "execution_count": 36,
   "metadata": {},
   "outputs": [
    {
     "data": {
      "text/plain": [
       "Season\n",
       "Autumn   75.666435\n",
       "Spring   71.839894\n",
       "Summer   75.149563\n",
       "Winter   75.946332\n",
       "Name: price, dtype: float64"
      ]
     },
     "execution_count": 36,
     "metadata": {},
     "output_type": "execute_result"
    }
   ],
   "source": [
    "# Average price by season\n",
    "calendar.groupby(['Season']).price.mean()"
   ]
  },
  {
   "cell_type": "code",
   "execution_count": 37,
   "metadata": {},
   "outputs": [
    {
     "name": "stdout",
     "output_type": "stream",
     "text": [
      "Month\n",
      "01   74.876608\n",
      "02   73.599346\n",
      "03   70.739682\n",
      "04   71.334763\n",
      "05   75.020303\n",
      "06   74.800055\n",
      "07   75.617055\n",
      "08   75.645054\n",
      "09   76.098689\n",
      "10   75.269505\n",
      "11   73.718000\n",
      "12   79.172506\n",
      "Name: price, dtype: float64\n"
     ]
    }
   ],
   "source": [
    "#avg price per month\n",
    "print(calendar.groupby(['Month']).price.mean())"
   ]
  },
  {
   "cell_type": "code",
   "execution_count": 38,
   "metadata": {},
   "outputs": [
    {
     "name": "stdout",
     "output_type": "stream",
     "text": [
      "WeekDay\n",
      "Friday      76.455393\n",
      "Monday      73.839392\n",
      "Saturday    76.459654\n",
      "Sunday      74.021620\n",
      "Thursday    74.311860\n",
      "Tuesday     73.773773\n",
      "Wednesday   73.870445\n",
      "Name: price, dtype: float64\n"
     ]
    }
   ],
   "source": [
    "# Average price by Day\n",
    "print(calendar.groupby(['WeekDay']).price.mean())"
   ]
  },
  {
   "cell_type": "markdown",
   "metadata": {},
   "source": [
    "## holidays"
   ]
  },
  {
   "cell_type": "code",
   "execution_count": 39,
   "metadata": {},
   "outputs": [],
   "source": [
    "#Analysis of avg. price during holidays\n",
    "holidaysAUT = holidays.AUT(state = 'W')\n",
    "\n",
    "calendar['IsHoliday'] = calendar['date'].isin(holidaysAUT)\n",
    "calendar['Holiday Name'] = calendar['date'].apply(lambda x: holidaysAUT.get(x))"
   ]
  },
  {
   "cell_type": "code",
   "execution_count": 40,
   "metadata": {},
   "outputs": [
    {
     "data": {
      "text/plain": [
       "NaN                    4654898\n",
       "Neujahr                  13224\n",
       "Mariä Empfängnis         13224\n",
       "Allerheiligen            13224\n",
       "Fronleichnam             13224\n",
       "Christi Himmelfahrt      13224\n",
       "Christtag                13224\n",
       "Heilige Drei Könige      13224\n",
       "Mariä Himmelfahrt        13224\n",
       "Staatsfeiertag           13224\n",
       "Nationalfeiertag         13224\n",
       "Ostermontag              13224\n",
       "Stefanitag               13224\n",
       "Pfingstmontag            13224\n",
       "Name: Holiday Name, dtype: int64"
      ]
     },
     "execution_count": 40,
     "metadata": {},
     "output_type": "execute_result"
    }
   ],
   "source": [
    "calendar['Holiday Name'].value_counts(dropna = False)"
   ]
  },
  {
   "cell_type": "code",
   "execution_count": 41,
   "metadata": {},
   "outputs": [],
   "source": [
    "lookupHoliday = {\n",
    "    'Ostermontag': 'Easter Monday',\n",
    "    'Nationalfeiertag': 'National Day',\n",
    "    'Allerheiligen': 'All Saints Day',\n",
    "    'Pfingstmontag': 'Pentecost',\n",
    "    'Christi Himmelfahrt': 'Ascension of Jesus',\n",
    "    'Fronleichnam': 'Corpus Christi',\n",
    "    'Mariä Empfängnis': 'Immaculate Conception',\n",
    "    'Mariä Himmelfahrt': 'Assumption of the Virgin Mary',\n",
    "    'Heilige Drei Könige': 'Epiphany',\n",
    "    'Staatsfeiertag': 'National Holiday(1st of May)',\n",
    "    'Christtag':'Christmas Day',\n",
    "    'Stefanitag': 'St. Stephen Day',\n",
    "    'Neujahr': 'New Year Day'\n",
    "}\n",
    "calendar['Holiday Name'] = calendar['Holiday Name'].map(lookupHoliday)"
   ]
  },
  {
   "cell_type": "code",
   "execution_count": 42,
   "metadata": {},
   "outputs": [
    {
     "data": {
      "text/plain": [
       "NaN                              4654898\n",
       "National Holiday(1st of May)       13224\n",
       "Easter Monday                      13224\n",
       "Assumption of the Virgin Mary      13224\n",
       "Immaculate Conception              13224\n",
       "St. Stephen Day                    13224\n",
       "Corpus Christi                     13224\n",
       "New Year Day                       13224\n",
       "National Day                       13224\n",
       "Epiphany                           13224\n",
       "All Saints Day                     13224\n",
       "Pentecost                          13224\n",
       "Christmas Day                      13224\n",
       "Ascension of Jesus                 13224\n",
       "Name: Holiday Name, dtype: int64"
      ]
     },
     "execution_count": 42,
     "metadata": {},
     "output_type": "execute_result"
    }
   ],
   "source": [
    "calendar['Holiday Name'].value_counts(dropna = False)"
   ]
  },
  {
   "cell_type": "code",
   "execution_count": 43,
   "metadata": {},
   "outputs": [],
   "source": [
    "calendar.loc[calendar['Holiday Name'].isna(), 'IsHoliday'] = 0"
   ]
  },
  {
   "cell_type": "code",
   "execution_count": 44,
   "metadata": {},
   "outputs": [],
   "source": [
    "calendar.loc[calendar['Holiday Name'].notna(), 'IsHoliday'] = 1"
   ]
  },
  {
   "cell_type": "code",
   "execution_count": 45,
   "metadata": {},
   "outputs": [],
   "source": [
    "calendar.loc[calendar['Holiday Name'].isna(), 'Holiday Name'] = 'No Holiday'"
   ]
  },
  {
   "cell_type": "code",
   "execution_count": 46,
   "metadata": {},
   "outputs": [
    {
     "data": {
      "text/html": [
       "<div>\n",
       "<style scoped>\n",
       "    .dataframe tbody tr th:only-of-type {\n",
       "        vertical-align: middle;\n",
       "    }\n",
       "\n",
       "    .dataframe tbody tr th {\n",
       "        vertical-align: top;\n",
       "    }\n",
       "\n",
       "    .dataframe thead th {\n",
       "        text-align: right;\n",
       "    }\n",
       "</style>\n",
       "<table border=\"1\" class=\"dataframe\">\n",
       "  <thead>\n",
       "    <tr style=\"text-align: right;\">\n",
       "      <th></th>\n",
       "      <th>listing_id</th>\n",
       "      <th>date</th>\n",
       "      <th>available</th>\n",
       "      <th>price</th>\n",
       "      <th>Year</th>\n",
       "      <th>Month</th>\n",
       "      <th>Day</th>\n",
       "      <th>WeekDayNr</th>\n",
       "      <th>WeekDay</th>\n",
       "      <th>Season</th>\n",
       "      <th>Season_num</th>\n",
       "      <th>IsHoliday</th>\n",
       "      <th>Holiday Name</th>\n",
       "    </tr>\n",
       "  </thead>\n",
       "  <tbody>\n",
       "    <tr>\n",
       "      <th>28</th>\n",
       "      <td>222614</td>\n",
       "      <td>2020-04-13</td>\n",
       "      <td>t</td>\n",
       "      <td>66.000000</td>\n",
       "      <td>2020</td>\n",
       "      <td>04</td>\n",
       "      <td>13</td>\n",
       "      <td>0</td>\n",
       "      <td>Monday</td>\n",
       "      <td>Spring</td>\n",
       "      <td>1</td>\n",
       "      <td>1</td>\n",
       "      <td>Easter Monday</td>\n",
       "    </tr>\n",
       "    <tr>\n",
       "      <th>46</th>\n",
       "      <td>222614</td>\n",
       "      <td>2020-05-01</td>\n",
       "      <td>t</td>\n",
       "      <td>64.000000</td>\n",
       "      <td>2020</td>\n",
       "      <td>05</td>\n",
       "      <td>01</td>\n",
       "      <td>4</td>\n",
       "      <td>Friday</td>\n",
       "      <td>Summer</td>\n",
       "      <td>2</td>\n",
       "      <td>1</td>\n",
       "      <td>National Holiday(1st of May)</td>\n",
       "    </tr>\n",
       "    <tr>\n",
       "      <th>82</th>\n",
       "      <td>457863</td>\n",
       "      <td>2020-04-13</td>\n",
       "      <td>t</td>\n",
       "      <td>70.000000</td>\n",
       "      <td>2020</td>\n",
       "      <td>04</td>\n",
       "      <td>13</td>\n",
       "      <td>0</td>\n",
       "      <td>Monday</td>\n",
       "      <td>Spring</td>\n",
       "      <td>1</td>\n",
       "      <td>1</td>\n",
       "      <td>Easter Monday</td>\n",
       "    </tr>\n",
       "    <tr>\n",
       "      <th>114</th>\n",
       "      <td>15883</td>\n",
       "      <td>2020-04-13</td>\n",
       "      <td>t</td>\n",
       "      <td>110.000000</td>\n",
       "      <td>2020</td>\n",
       "      <td>04</td>\n",
       "      <td>13</td>\n",
       "      <td>0</td>\n",
       "      <td>Monday</td>\n",
       "      <td>Spring</td>\n",
       "      <td>1</td>\n",
       "      <td>1</td>\n",
       "      <td>Easter Monday</td>\n",
       "    </tr>\n",
       "    <tr>\n",
       "      <th>140</th>\n",
       "      <td>457863</td>\n",
       "      <td>2020-05-01</td>\n",
       "      <td>t</td>\n",
       "      <td>70.000000</td>\n",
       "      <td>2020</td>\n",
       "      <td>05</td>\n",
       "      <td>01</td>\n",
       "      <td>4</td>\n",
       "      <td>Friday</td>\n",
       "      <td>Summer</td>\n",
       "      <td>2</td>\n",
       "      <td>1</td>\n",
       "      <td>National Holiday(1st of May)</td>\n",
       "    </tr>\n",
       "  </tbody>\n",
       "</table>\n",
       "</div>"
      ],
      "text/plain": [
       "     listing_id       date available      price  Year Month Day  WeekDayNr  \\\n",
       "28       222614 2020-04-13         t  66.000000  2020    04  13          0   \n",
       "46       222614 2020-05-01         t  64.000000  2020    05  01          4   \n",
       "82       457863 2020-04-13         t  70.000000  2020    04  13          0   \n",
       "114       15883 2020-04-13         t 110.000000  2020    04  13          0   \n",
       "140      457863 2020-05-01         t  70.000000  2020    05  01          4   \n",
       "\n",
       "    WeekDay  Season  Season_num IsHoliday                  Holiday Name  \n",
       "28   Monday  Spring           1         1                 Easter Monday  \n",
       "46   Friday  Summer           2         1  National Holiday(1st of May)  \n",
       "82   Monday  Spring           1         1                 Easter Monday  \n",
       "114  Monday  Spring           1         1                 Easter Monday  \n",
       "140  Friday  Summer           2         1  National Holiday(1st of May)  "
      ]
     },
     "execution_count": 46,
     "metadata": {},
     "output_type": "execute_result"
    }
   ],
   "source": [
    "calendar[calendar['IsHoliday']==1].head()"
   ]
  },
  {
   "cell_type": "code",
   "execution_count": 47,
   "metadata": {},
   "outputs": [
    {
     "data": {
      "text/html": [
       "<div>\n",
       "<style scoped>\n",
       "    .dataframe tbody tr th:only-of-type {\n",
       "        vertical-align: middle;\n",
       "    }\n",
       "\n",
       "    .dataframe tbody tr th {\n",
       "        vertical-align: top;\n",
       "    }\n",
       "\n",
       "    .dataframe thead th {\n",
       "        text-align: right;\n",
       "    }\n",
       "</style>\n",
       "<table border=\"1\" class=\"dataframe\">\n",
       "  <thead>\n",
       "    <tr style=\"text-align: right;\">\n",
       "      <th></th>\n",
       "      <th>listing_id</th>\n",
       "      <th>date</th>\n",
       "      <th>available</th>\n",
       "      <th>price</th>\n",
       "      <th>Year</th>\n",
       "      <th>Month</th>\n",
       "      <th>Day</th>\n",
       "      <th>WeekDayNr</th>\n",
       "      <th>WeekDay</th>\n",
       "      <th>Season</th>\n",
       "      <th>Season_num</th>\n",
       "      <th>IsHoliday</th>\n",
       "      <th>Holiday Name</th>\n",
       "    </tr>\n",
       "  </thead>\n",
       "  <tbody>\n",
       "    <tr>\n",
       "      <th>0</th>\n",
       "      <td>457863</td>\n",
       "      <td>2020-03-17</td>\n",
       "      <td>f</td>\n",
       "      <td>70.000000</td>\n",
       "      <td>2020</td>\n",
       "      <td>03</td>\n",
       "      <td>17</td>\n",
       "      <td>1</td>\n",
       "      <td>Tuesday</td>\n",
       "      <td>Spring</td>\n",
       "      <td>1</td>\n",
       "      <td>0</td>\n",
       "      <td>No Holiday</td>\n",
       "    </tr>\n",
       "    <tr>\n",
       "      <th>1</th>\n",
       "      <td>222614</td>\n",
       "      <td>2020-03-17</td>\n",
       "      <td>f</td>\n",
       "      <td>60.000000</td>\n",
       "      <td>2020</td>\n",
       "      <td>03</td>\n",
       "      <td>17</td>\n",
       "      <td>1</td>\n",
       "      <td>Tuesday</td>\n",
       "      <td>Spring</td>\n",
       "      <td>1</td>\n",
       "      <td>0</td>\n",
       "      <td>No Holiday</td>\n",
       "    </tr>\n",
       "    <tr>\n",
       "      <th>2</th>\n",
       "      <td>222614</td>\n",
       "      <td>2020-03-18</td>\n",
       "      <td>t</td>\n",
       "      <td>60.000000</td>\n",
       "      <td>2020</td>\n",
       "      <td>03</td>\n",
       "      <td>18</td>\n",
       "      <td>2</td>\n",
       "      <td>Wednesday</td>\n",
       "      <td>Spring</td>\n",
       "      <td>1</td>\n",
       "      <td>0</td>\n",
       "      <td>No Holiday</td>\n",
       "    </tr>\n",
       "    <tr>\n",
       "      <th>3</th>\n",
       "      <td>222614</td>\n",
       "      <td>2020-03-19</td>\n",
       "      <td>t</td>\n",
       "      <td>60.000000</td>\n",
       "      <td>2020</td>\n",
       "      <td>03</td>\n",
       "      <td>19</td>\n",
       "      <td>3</td>\n",
       "      <td>Thursday</td>\n",
       "      <td>Spring</td>\n",
       "      <td>1</td>\n",
       "      <td>0</td>\n",
       "      <td>No Holiday</td>\n",
       "    </tr>\n",
       "    <tr>\n",
       "      <th>4</th>\n",
       "      <td>222614</td>\n",
       "      <td>2020-03-20</td>\n",
       "      <td>t</td>\n",
       "      <td>60.000000</td>\n",
       "      <td>2020</td>\n",
       "      <td>03</td>\n",
       "      <td>20</td>\n",
       "      <td>4</td>\n",
       "      <td>Friday</td>\n",
       "      <td>Spring</td>\n",
       "      <td>1</td>\n",
       "      <td>0</td>\n",
       "      <td>No Holiday</td>\n",
       "    </tr>\n",
       "  </tbody>\n",
       "</table>\n",
       "</div>"
      ],
      "text/plain": [
       "   listing_id       date available     price  Year Month Day  WeekDayNr  \\\n",
       "0      457863 2020-03-17         f 70.000000  2020    03  17          1   \n",
       "1      222614 2020-03-17         f 60.000000  2020    03  17          1   \n",
       "2      222614 2020-03-18         t 60.000000  2020    03  18          2   \n",
       "3      222614 2020-03-19         t 60.000000  2020    03  19          3   \n",
       "4      222614 2020-03-20         t 60.000000  2020    03  20          4   \n",
       "\n",
       "     WeekDay  Season  Season_num IsHoliday Holiday Name  \n",
       "0    Tuesday  Spring           1         0   No Holiday  \n",
       "1    Tuesday  Spring           1         0   No Holiday  \n",
       "2  Wednesday  Spring           1         0   No Holiday  \n",
       "3   Thursday  Spring           1         0   No Holiday  \n",
       "4     Friday  Spring           1         0   No Holiday  "
      ]
     },
     "execution_count": 47,
     "metadata": {},
     "output_type": "execute_result"
    }
   ],
   "source": [
    "calendar[calendar['IsHoliday']==0].head()"
   ]
  },
  {
   "cell_type": "code",
   "execution_count": 48,
   "metadata": {},
   "outputs": [
    {
     "data": {
      "text/plain": [
       "listing_id      0\n",
       "date            0\n",
       "available       0\n",
       "price           0\n",
       "Year            0\n",
       "Month           0\n",
       "Day             0\n",
       "WeekDayNr       0\n",
       "WeekDay         0\n",
       "Season          0\n",
       "Season_num      0\n",
       "IsHoliday       0\n",
       "Holiday Name    0\n",
       "dtype: int64"
      ]
     },
     "execution_count": 48,
     "metadata": {},
     "output_type": "execute_result"
    }
   ],
   "source": [
    "calendar.isna().sum()"
   ]
  },
  {
   "cell_type": "code",
   "execution_count": 50,
   "metadata": {},
   "outputs": [],
   "source": [
    "#exporting the dataframe\n",
    "calendar.to_csv(r'D:/disertation/project/vienna_data/transformed_calendar.csv')"
   ]
  }
 ],
 "metadata": {
  "kernelspec": {
   "display_name": "Python 3",
   "language": "python",
   "name": "python3"
  },
  "language_info": {
   "codemirror_mode": {
    "name": "ipython",
    "version": 3
   },
   "file_extension": ".py",
   "mimetype": "text/x-python",
   "name": "python",
   "nbconvert_exporter": "python",
   "pygments_lexer": "ipython3",
   "version": "3.7.6"
  }
 },
 "nbformat": 4,
 "nbformat_minor": 4
}
