{
 "cells": [
  {
   "cell_type": "markdown",
   "metadata": {},
   "source": [
    "#### Citations:\n",
    "Hutto, C.J. & Gilbert, E.E. (2014). VADER: A Parsimonious Rule-based Model for Sentiment Analysis of Social Media Text. Eighth International Conference on Weblogs and Social Media (ICWSM-14). Ann Arbor, MI, June 2014."
   ]
  },
  {
   "cell_type": "markdown",
   "metadata": {},
   "source": [
    "### Module imports"
   ]
  },
  {
   "cell_type": "code",
   "execution_count": 1,
   "metadata": {},
   "outputs": [],
   "source": [
    "import numpy as np \n",
    "import pandas as pd\n",
    "\n",
    "import re # regular expresions\n",
    "import html.parser #the basis for parsing text files formatted in HTML (HyperText Mark-up Language) and XHTML.\n",
    "\n",
    "import matplotlib.pyplot as plt\n",
    "%matplotlib inline\n",
    "plt.style.use('ggplot')"
   ]
  },
  {
   "cell_type": "markdown",
   "metadata": {},
   "source": [
    "# Data imports and processing"
   ]
  },
  {
   "cell_type": "code",
   "execution_count": 2,
   "metadata": {},
   "outputs": [],
   "source": [
    "dataset = pd.read_csv('./vienna_data/reviews_polarity.csv')"
   ]
  },
  {
   "cell_type": "code",
   "execution_count": 3,
   "metadata": {},
   "outputs": [
    {
     "data": {
      "text/html": [
       "<div>\n",
       "<style scoped>\n",
       "    .dataframe tbody tr th:only-of-type {\n",
       "        vertical-align: middle;\n",
       "    }\n",
       "\n",
       "    .dataframe tbody tr th {\n",
       "        vertical-align: top;\n",
       "    }\n",
       "\n",
       "    .dataframe thead th {\n",
       "        text-align: right;\n",
       "    }\n",
       "</style>\n",
       "<table border=\"1\" class=\"dataframe\">\n",
       "  <thead>\n",
       "    <tr style=\"text-align: right;\">\n",
       "      <th></th>\n",
       "      <th>listing_id</th>\n",
       "      <th>reviewer_id</th>\n",
       "      <th>comments</th>\n",
       "      <th>Positive</th>\n",
       "      <th>Negative</th>\n",
       "      <th>Neutral</th>\n",
       "      <th>Compound</th>\n",
       "    </tr>\n",
       "  </thead>\n",
       "  <tbody>\n",
       "    <tr>\n",
       "      <th>0</th>\n",
       "      <td>15883</td>\n",
       "      <td>30537860</td>\n",
       "      <td>If you need a clean, comfortable place to stay...</td>\n",
       "      <td>24.1</td>\n",
       "      <td>5.8</td>\n",
       "      <td>70.0</td>\n",
       "      <td>94.80</td>\n",
       "    </tr>\n",
       "    <tr>\n",
       "      <th>1</th>\n",
       "      <td>15883</td>\n",
       "      <td>37529754</td>\n",
       "      <td>It's so nice to be in the house! It's a peace ...</td>\n",
       "      <td>53.4</td>\n",
       "      <td>0.0</td>\n",
       "      <td>46.6</td>\n",
       "      <td>96.04</td>\n",
       "    </tr>\n",
       "    <tr>\n",
       "      <th>2</th>\n",
       "      <td>15883</td>\n",
       "      <td>3147341</td>\n",
       "      <td>A beautiful place, uniquely decorated showing ...</td>\n",
       "      <td>22.4</td>\n",
       "      <td>5.2</td>\n",
       "      <td>72.4</td>\n",
       "      <td>92.98</td>\n",
       "    </tr>\n",
       "    <tr>\n",
       "      <th>3</th>\n",
       "      <td>15883</td>\n",
       "      <td>29518067</td>\n",
       "      <td>Eine sehr schöne Unterkunft in einem privaten ...</td>\n",
       "      <td>0.0</td>\n",
       "      <td>0.0</td>\n",
       "      <td>100.0</td>\n",
       "      <td>0.00</td>\n",
       "    </tr>\n",
       "    <tr>\n",
       "      <th>4</th>\n",
       "      <td>15883</td>\n",
       "      <td>36016357</td>\n",
       "      <td>It was a very pleasant stay. Excellent locatio...</td>\n",
       "      <td>62.2</td>\n",
       "      <td>0.0</td>\n",
       "      <td>37.8</td>\n",
       "      <td>92.08</td>\n",
       "    </tr>\n",
       "  </tbody>\n",
       "</table>\n",
       "</div>"
      ],
      "text/plain": [
       "   listing_id  reviewer_id                                           comments  \\\n",
       "0       15883     30537860  If you need a clean, comfortable place to stay...   \n",
       "1       15883     37529754  It's so nice to be in the house! It's a peace ...   \n",
       "2       15883      3147341  A beautiful place, uniquely decorated showing ...   \n",
       "3       15883     29518067  Eine sehr schöne Unterkunft in einem privaten ...   \n",
       "4       15883     36016357  It was a very pleasant stay. Excellent locatio...   \n",
       "\n",
       "   Positive  Negative  Neutral  Compound  \n",
       "0      24.1       5.8     70.0     94.80  \n",
       "1      53.4       0.0     46.6     96.04  \n",
       "2      22.4       5.2     72.4     92.98  \n",
       "3       0.0       0.0    100.0      0.00  \n",
       "4      62.2       0.0     37.8     92.08  "
      ]
     },
     "execution_count": 3,
     "metadata": {},
     "output_type": "execute_result"
    }
   ],
   "source": [
    "dataset.head()"
   ]
  },
  {
   "cell_type": "code",
   "execution_count": 4,
   "metadata": {},
   "outputs": [
    {
     "data": {
      "text/plain": [
       "listing_id     0\n",
       "reviewer_id    0\n",
       "comments       0\n",
       "Positive       0\n",
       "Negative       0\n",
       "Neutral        0\n",
       "Compound       0\n",
       "dtype: int64"
      ]
     },
     "execution_count": 4,
     "metadata": {},
     "output_type": "execute_result"
    }
   ],
   "source": [
    "dataset.isna().sum()"
   ]
  },
  {
   "cell_type": "markdown",
   "metadata": {},
   "source": [
    "## Reviews and polarity scores dataset"
   ]
  },
  {
   "cell_type": "markdown",
   "metadata": {},
   "source": [
    "As it can be seen from the table below, each comment has it's polarity scores calculated (multiplied by 100) - positive, negative, neutral and the compound polarity score. For non-english reviews, the \"sentiment\" is neutral 100%. \n",
    "\n",
    "The compound metric ('normalized, weighted composite score') will be useful for the next step - generating word clouds for most positive / negative reviews. \n",
    "\n",
    "From the scoring method related to the compound score (it can be seen [here](https://github.com/cjhutto/vaderSentiment#about-the-scoring)), typical threshold values are:\n",
    "\n",
    "+ positive sentiment: compound score >= 0.05\n",
    "+ neutral sentiment: (compound score > -0.05) and (compound score < 0.05)\n",
    "+ negative sentiment: compound score <= -0.05\n",
    "\n",
    "The scoring method related to the \"compound\" metric can be seen [here](https://github.com/cjhutto/vaderSentiment#about-the-scoring).\n"
   ]
  },
  {
   "cell_type": "code",
   "execution_count": 5,
   "metadata": {
    "scrolled": true
   },
   "outputs": [
    {
     "data": {
      "text/html": [
       "<div>\n",
       "<style scoped>\n",
       "    .dataframe tbody tr th:only-of-type {\n",
       "        vertical-align: middle;\n",
       "    }\n",
       "\n",
       "    .dataframe tbody tr th {\n",
       "        vertical-align: top;\n",
       "    }\n",
       "\n",
       "    .dataframe thead th {\n",
       "        text-align: right;\n",
       "    }\n",
       "</style>\n",
       "<table border=\"1\" class=\"dataframe\">\n",
       "  <thead>\n",
       "    <tr style=\"text-align: right;\">\n",
       "      <th></th>\n",
       "      <th>listing_id</th>\n",
       "      <th>reviewer_id</th>\n",
       "      <th>comments</th>\n",
       "      <th>Positive</th>\n",
       "      <th>Negative</th>\n",
       "      <th>Neutral</th>\n",
       "      <th>Compound</th>\n",
       "    </tr>\n",
       "  </thead>\n",
       "  <tbody>\n",
       "    <tr>\n",
       "      <th>469959</th>\n",
       "      <td>42642091</td>\n",
       "      <td>299008765</td>\n",
       "      <td>La estancia fue increíble. Nos dejaron cosas p...</td>\n",
       "      <td>0.0</td>\n",
       "      <td>0.0</td>\n",
       "      <td>100.0</td>\n",
       "      <td>0.00</td>\n",
       "    </tr>\n",
       "    <tr>\n",
       "      <th>469960</th>\n",
       "      <td>42665072</td>\n",
       "      <td>14455623</td>\n",
       "      <td>The apartment is clean and simple. You have to...</td>\n",
       "      <td>4.1</td>\n",
       "      <td>7.4</td>\n",
       "      <td>88.6</td>\n",
       "      <td>-29.60</td>\n",
       "    </tr>\n",
       "    <tr>\n",
       "      <th>469961</th>\n",
       "      <td>42665072</td>\n",
       "      <td>6036216</td>\n",
       "      <td>Very cute and great apartment, price vs value ...</td>\n",
       "      <td>22.2</td>\n",
       "      <td>0.0</td>\n",
       "      <td>77.8</td>\n",
       "      <td>97.05</td>\n",
       "    </tr>\n",
       "    <tr>\n",
       "      <th>469962</th>\n",
       "      <td>42665072</td>\n",
       "      <td>196311212</td>\n",
       "      <td>This accommodation is not so far from Vienna h...</td>\n",
       "      <td>12.9</td>\n",
       "      <td>0.0</td>\n",
       "      <td>87.1</td>\n",
       "      <td>64.59</td>\n",
       "    </tr>\n",
       "    <tr>\n",
       "      <th>469963</th>\n",
       "      <td>42666433</td>\n",
       "      <td>126455592</td>\n",
       "      <td>Me and my friend really liked it We loved it ❤️</td>\n",
       "      <td>56.0</td>\n",
       "      <td>0.0</td>\n",
       "      <td>44.0</td>\n",
       "      <td>88.05</td>\n",
       "    </tr>\n",
       "    <tr>\n",
       "      <th>469964</th>\n",
       "      <td>42667250</td>\n",
       "      <td>141082281</td>\n",
       "      <td>Super nette Gastgeberin, kleine feine Wohnung,...</td>\n",
       "      <td>36.0</td>\n",
       "      <td>0.0</td>\n",
       "      <td>64.0</td>\n",
       "      <td>73.51</td>\n",
       "    </tr>\n",
       "    <tr>\n",
       "      <th>469965</th>\n",
       "      <td>42667250</td>\n",
       "      <td>30923871</td>\n",
       "      <td>Leticia ist sehr nett und hilfsbereit. Die Woh...</td>\n",
       "      <td>7.5</td>\n",
       "      <td>14.6</td>\n",
       "      <td>78.0</td>\n",
       "      <td>-49.12</td>\n",
       "    </tr>\n",
       "    <tr>\n",
       "      <th>469966</th>\n",
       "      <td>42667250</td>\n",
       "      <td>224507883</td>\n",
       "      <td>The host canceled this reservation 21 days bef...</td>\n",
       "      <td>0.0</td>\n",
       "      <td>0.0</td>\n",
       "      <td>100.0</td>\n",
       "      <td>0.00</td>\n",
       "    </tr>\n",
       "    <tr>\n",
       "      <th>469967</th>\n",
       "      <td>42667250</td>\n",
       "      <td>33800333</td>\n",
       "      <td>The host canceled this reservation 23 days bef...</td>\n",
       "      <td>0.0</td>\n",
       "      <td>0.0</td>\n",
       "      <td>100.0</td>\n",
       "      <td>0.00</td>\n",
       "    </tr>\n",
       "    <tr>\n",
       "      <th>469968</th>\n",
       "      <td>42667250</td>\n",
       "      <td>294752327</td>\n",
       "      <td>The host canceled this reservation 27 days bef...</td>\n",
       "      <td>0.0</td>\n",
       "      <td>0.0</td>\n",
       "      <td>100.0</td>\n",
       "      <td>0.00</td>\n",
       "    </tr>\n",
       "    <tr>\n",
       "      <th>469969</th>\n",
       "      <td>42675475</td>\n",
       "      <td>238884559</td>\n",
       "      <td>The host canceled this reservation 29 days bef...</td>\n",
       "      <td>0.0</td>\n",
       "      <td>0.0</td>\n",
       "      <td>100.0</td>\n",
       "      <td>0.00</td>\n",
       "    </tr>\n",
       "    <tr>\n",
       "      <th>469970</th>\n",
       "      <td>42678136</td>\n",
       "      <td>287767126</td>\n",
       "      <td>Nette Kommunikation, unproblematischer Check-i...</td>\n",
       "      <td>8.9</td>\n",
       "      <td>11.9</td>\n",
       "      <td>79.2</td>\n",
       "      <td>-24.22</td>\n",
       "    </tr>\n",
       "    <tr>\n",
       "      <th>469971</th>\n",
       "      <td>42682962</td>\n",
       "      <td>340074629</td>\n",
       "      <td>The host canceled this reservation 22 days bef...</td>\n",
       "      <td>0.0</td>\n",
       "      <td>0.0</td>\n",
       "      <td>100.0</td>\n",
       "      <td>0.00</td>\n",
       "    </tr>\n",
       "    <tr>\n",
       "      <th>469972</th>\n",
       "      <td>42689613</td>\n",
       "      <td>324408348</td>\n",
       "      <td>Die Wohnung ist neu renoviert und sehr schön e...</td>\n",
       "      <td>0.0</td>\n",
       "      <td>15.1</td>\n",
       "      <td>84.9</td>\n",
       "      <td>-83.16</td>\n",
       "    </tr>\n",
       "    <tr>\n",
       "      <th>469973</th>\n",
       "      <td>42700746</td>\n",
       "      <td>177308173</td>\n",
       "      <td>Very nice people! They helped me with whatever...</td>\n",
       "      <td>37.8</td>\n",
       "      <td>0.0</td>\n",
       "      <td>62.2</td>\n",
       "      <td>66.81</td>\n",
       "    </tr>\n",
       "    <tr>\n",
       "      <th>469974</th>\n",
       "      <td>42705436</td>\n",
       "      <td>4005354</td>\n",
       "      <td>Very nice flat and great stay to do a Thermen-...</td>\n",
       "      <td>41.8</td>\n",
       "      <td>0.0</td>\n",
       "      <td>58.2</td>\n",
       "      <td>80.16</td>\n",
       "    </tr>\n",
       "    <tr>\n",
       "      <th>469975</th>\n",
       "      <td>42707880</td>\n",
       "      <td>143319370</td>\n",
       "      <td>Cute,clean and quiet accommodation. Fantastic ...</td>\n",
       "      <td>41.9</td>\n",
       "      <td>0.0</td>\n",
       "      <td>58.1</td>\n",
       "      <td>55.74</td>\n",
       "    </tr>\n",
       "    <tr>\n",
       "      <th>469976</th>\n",
       "      <td>42741768</td>\n",
       "      <td>60936666</td>\n",
       "      <td>A very modern apartment in the middle of what ...</td>\n",
       "      <td>28.6</td>\n",
       "      <td>0.0</td>\n",
       "      <td>71.4</td>\n",
       "      <td>90.80</td>\n",
       "    </tr>\n",
       "    <tr>\n",
       "      <th>469977</th>\n",
       "      <td>42782957</td>\n",
       "      <td>12348831</td>\n",
       "      <td>The stay at Lisa &amp; Dennis’s place was excellen...</td>\n",
       "      <td>32.2</td>\n",
       "      <td>0.0</td>\n",
       "      <td>67.8</td>\n",
       "      <td>98.82</td>\n",
       "    </tr>\n",
       "    <tr>\n",
       "      <th>469978</th>\n",
       "      <td>42822480</td>\n",
       "      <td>196565405</td>\n",
       "      <td>Sehr zu empfehlen. Unkomplizierter Check-in, s...</td>\n",
       "      <td>0.0</td>\n",
       "      <td>0.0</td>\n",
       "      <td>100.0</td>\n",
       "      <td>0.00</td>\n",
       "    </tr>\n",
       "  </tbody>\n",
       "</table>\n",
       "</div>"
      ],
      "text/plain": [
       "        listing_id  reviewer_id  \\\n",
       "469959    42642091    299008765   \n",
       "469960    42665072     14455623   \n",
       "469961    42665072      6036216   \n",
       "469962    42665072    196311212   \n",
       "469963    42666433    126455592   \n",
       "469964    42667250    141082281   \n",
       "469965    42667250     30923871   \n",
       "469966    42667250    224507883   \n",
       "469967    42667250     33800333   \n",
       "469968    42667250    294752327   \n",
       "469969    42675475    238884559   \n",
       "469970    42678136    287767126   \n",
       "469971    42682962    340074629   \n",
       "469972    42689613    324408348   \n",
       "469973    42700746    177308173   \n",
       "469974    42705436      4005354   \n",
       "469975    42707880    143319370   \n",
       "469976    42741768     60936666   \n",
       "469977    42782957     12348831   \n",
       "469978    42822480    196565405   \n",
       "\n",
       "                                                 comments  Positive  Negative  \\\n",
       "469959  La estancia fue increíble. Nos dejaron cosas p...       0.0       0.0   \n",
       "469960  The apartment is clean and simple. You have to...       4.1       7.4   \n",
       "469961  Very cute and great apartment, price vs value ...      22.2       0.0   \n",
       "469962  This accommodation is not so far from Vienna h...      12.9       0.0   \n",
       "469963    Me and my friend really liked it We loved it ❤️      56.0       0.0   \n",
       "469964  Super nette Gastgeberin, kleine feine Wohnung,...      36.0       0.0   \n",
       "469965  Leticia ist sehr nett und hilfsbereit. Die Woh...       7.5      14.6   \n",
       "469966  The host canceled this reservation 21 days bef...       0.0       0.0   \n",
       "469967  The host canceled this reservation 23 days bef...       0.0       0.0   \n",
       "469968  The host canceled this reservation 27 days bef...       0.0       0.0   \n",
       "469969  The host canceled this reservation 29 days bef...       0.0       0.0   \n",
       "469970  Nette Kommunikation, unproblematischer Check-i...       8.9      11.9   \n",
       "469971  The host canceled this reservation 22 days bef...       0.0       0.0   \n",
       "469972  Die Wohnung ist neu renoviert und sehr schön e...       0.0      15.1   \n",
       "469973  Very nice people! They helped me with whatever...      37.8       0.0   \n",
       "469974  Very nice flat and great stay to do a Thermen-...      41.8       0.0   \n",
       "469975  Cute,clean and quiet accommodation. Fantastic ...      41.9       0.0   \n",
       "469976  A very modern apartment in the middle of what ...      28.6       0.0   \n",
       "469977  The stay at Lisa & Dennis’s place was excellen...      32.2       0.0   \n",
       "469978  Sehr zu empfehlen. Unkomplizierter Check-in, s...       0.0       0.0   \n",
       "\n",
       "        Neutral  Compound  \n",
       "469959    100.0      0.00  \n",
       "469960     88.6    -29.60  \n",
       "469961     77.8     97.05  \n",
       "469962     87.1     64.59  \n",
       "469963     44.0     88.05  \n",
       "469964     64.0     73.51  \n",
       "469965     78.0    -49.12  \n",
       "469966    100.0      0.00  \n",
       "469967    100.0      0.00  \n",
       "469968    100.0      0.00  \n",
       "469969    100.0      0.00  \n",
       "469970     79.2    -24.22  \n",
       "469971    100.0      0.00  \n",
       "469972     84.9    -83.16  \n",
       "469973     62.2     66.81  \n",
       "469974     58.2     80.16  \n",
       "469975     58.1     55.74  \n",
       "469976     71.4     90.80  \n",
       "469977     67.8     98.82  \n",
       "469978    100.0      0.00  "
      ]
     },
     "execution_count": 5,
     "metadata": {},
     "output_type": "execute_result"
    }
   ],
   "source": [
    "dataset.tail(20)"
   ]
  },
  {
   "cell_type": "markdown",
   "metadata": {},
   "source": [
    "### Automated reviews - cancelation of reservation\n",
    "\n",
    "There are 3319 automated postings in the dataset - having a fully neutral polarity score. \n",
    "\n",
    "When a host cancels a confirmed reservation, Airbnb imposes several penalties, this being one of them. This is useful for future clients on Arbnb regarding hosts that have a tendecy to cancel reservations.\n",
    "\n",
    "These reviews will be excluded from the dataset."
   ]
  },
  {
   "cell_type": "code",
   "execution_count": 6,
   "metadata": {},
   "outputs": [
    {
     "data": {
      "text/plain": [
       "3319"
      ]
     },
     "execution_count": 6,
     "metadata": {},
     "output_type": "execute_result"
    }
   ],
   "source": [
    "automated_postings = dataset[dataset.comments.str.contains(pat = 'automated posting', case=False)]\n",
    "len(automated_postings)"
   ]
  },
  {
   "cell_type": "code",
   "execution_count": 7,
   "metadata": {},
   "outputs": [
    {
     "data": {
      "text/plain": [
       "469979"
      ]
     },
     "execution_count": 7,
     "metadata": {},
     "output_type": "execute_result"
    }
   ],
   "source": [
    "len(dataset)"
   ]
  },
  {
   "cell_type": "code",
   "execution_count": 8,
   "metadata": {},
   "outputs": [],
   "source": [
    "automated_postings.reset_index(drop=True, inplace = True)"
   ]
  },
  {
   "cell_type": "code",
   "execution_count": 9,
   "metadata": {},
   "outputs": [
    {
     "name": "stdout",
     "output_type": "stream",
     "text": [
      "   listing_id  reviewer_id  \\\n",
      "0       51287     51044143   \n",
      "1       70637      4164818   \n",
      "2       70637     29271569   \n",
      "3       70637     21273606   \n",
      "4       75500    153855455   \n",
      "5       75500      6510149   \n",
      "6       78416      9289349   \n",
      "7       78416     61913378   \n",
      "8       78416    171257619   \n",
      "9       78416    250404105   \n",
      "\n",
      "                                                                                    comments  \\\n",
      "0   The host canceled this reservation 13 days before arrival. This is an automated posting.   \n",
      "1         The reservation was canceled 54 days before arrival. This is an automated posting.   \n",
      "2         The reservation was canceled 23 days before arrival. This is an automated posting.   \n",
      "3    The host canceled this reservation 3 days before arrival. This is an automated posting.   \n",
      "4   The host canceled this reservation 65 days before arrival. This is an automated posting.   \n",
      "5  The host canceled this reservation 114 days before arrival. This is an automated posting.   \n",
      "6         The reservation was canceled 11 days before arrival. This is an automated posting.   \n",
      "7    The host canceled this reservation 4 days before arrival. This is an automated posting.   \n",
      "8   The host canceled this reservation 22 days before arrival. This is an automated posting.   \n",
      "9  The host canceled this reservation 176 days before arrival. This is an automated posting.   \n",
      "\n",
      "   Positive  Negative  Neutral  Compound  \n",
      "0       0.0       0.0    100.0       0.0  \n",
      "1       0.0       0.0    100.0       0.0  \n",
      "2       0.0       0.0    100.0       0.0  \n",
      "3       0.0       0.0    100.0       0.0  \n",
      "4       0.0       0.0    100.0       0.0  \n",
      "5       0.0       0.0    100.0       0.0  \n",
      "6       0.0       0.0    100.0       0.0  \n",
      "7       0.0       0.0    100.0       0.0  \n",
      "8       0.0       0.0    100.0       0.0  \n",
      "9       0.0       0.0    100.0       0.0  \n"
     ]
    }
   ],
   "source": [
    "with pd.option_context('display.max_colwidth', None): \n",
    "    print(automated_postings.head(10))"
   ]
  },
  {
   "cell_type": "code",
   "execution_count": 10,
   "metadata": {},
   "outputs": [
    {
     "data": {
      "text/plain": [
       "14621711    16\n",
       "5835467     13\n",
       "18102062    13\n",
       "28019001    10\n",
       "20489681    10\n",
       "            ..\n",
       "19470814     1\n",
       "41466336     1\n",
       "9247202      1\n",
       "5601764      1\n",
       "29736960     1\n",
       "Name: listing_id, Length: 2179, dtype: int64"
      ]
     },
     "execution_count": 10,
     "metadata": {},
     "output_type": "execute_result"
    }
   ],
   "source": [
    "automated_postings.listing_id.value_counts()"
   ]
  },
  {
   "cell_type": "markdown",
   "metadata": {},
   "source": [
    "There are few listings with more than 10 such cancelation-related automated postings. Most of the listings have 1 or 2 such reviews."
   ]
  },
  {
   "cell_type": "code",
   "execution_count": 11,
   "metadata": {
    "scrolled": false
   },
   "outputs": [
    {
     "data": {
      "image/png": "[encoded data removed]",
      "text/plain": [
       "<Figure size 360x288 with 1 Axes>"
      ]
     },
     "metadata": {},
     "output_type": "display_data"
    }
   ],
   "source": [
    "plt.figure(figsize = (5,4))\n",
    "\n",
    "plt.hist(automated_postings.listing_id.value_counts(), bins = np.arange(10)-0.5, ec = 'white', color = '#4db6ac')\n",
    "\n",
    "plt.title('Automated reviews', fontsize= 14)\n",
    "plt.xlabel('Nr. of autoamated postings', fontsize = 12)\n",
    "plt.ylabel('Nr. of properties',fontsize = 12)\n",
    "\n",
    "plt.xticks(range(17), fontsize = 12)\n",
    "plt.xlim([0, 10])\n",
    "plt.yticks(fontsize = 12)\n",
    "plt.show()"
   ]
  },
  {
   "cell_type": "code",
   "execution_count": 12,
   "metadata": {},
   "outputs": [],
   "source": [
    "# Dropping these rows\n",
    "indexNames = dataset[dataset.comments.str.contains(pat = 'automated posting', case=False)].index\n",
    "# Delete these row indexes from dataFrame\n",
    "dataset.drop(indexNames , inplace=True)\n"
   ]
  },
  {
   "cell_type": "code",
   "execution_count": 13,
   "metadata": {},
   "outputs": [
    {
     "data": {
      "text/html": [
       "<div>\n",
       "<style scoped>\n",
       "    .dataframe tbody tr th:only-of-type {\n",
       "        vertical-align: middle;\n",
       "    }\n",
       "\n",
       "    .dataframe tbody tr th {\n",
       "        vertical-align: top;\n",
       "    }\n",
       "\n",
       "    .dataframe thead th {\n",
       "        text-align: right;\n",
       "    }\n",
       "</style>\n",
       "<table border=\"1\" class=\"dataframe\">\n",
       "  <thead>\n",
       "    <tr style=\"text-align: right;\">\n",
       "      <th></th>\n",
       "      <th>listing_id</th>\n",
       "      <th>reviewer_id</th>\n",
       "      <th>comments</th>\n",
       "      <th>Positive</th>\n",
       "      <th>Negative</th>\n",
       "      <th>Neutral</th>\n",
       "      <th>Compound</th>\n",
       "    </tr>\n",
       "  </thead>\n",
       "  <tbody>\n",
       "  </tbody>\n",
       "</table>\n",
       "</div>"
      ],
      "text/plain": [
       "Empty DataFrame\n",
       "Columns: [listing_id, reviewer_id, comments, Positive, Negative, Neutral, Compound]\n",
       "Index: []"
      ]
     },
     "execution_count": 13,
     "metadata": {},
     "output_type": "execute_result"
    }
   ],
   "source": [
    "dataset[dataset.comments.str.contains(pat = 'automated posting', case=False)]"
   ]
  },
  {
   "cell_type": "code",
   "execution_count": 14,
   "metadata": {},
   "outputs": [
    {
     "data": {
      "text/plain": [
       "466660"
      ]
     },
     "execution_count": 14,
     "metadata": {},
     "output_type": "execute_result"
    }
   ],
   "source": [
    "len(dataset)"
   ]
  },
  {
   "cell_type": "code",
   "execution_count": 18,
   "metadata": {},
   "outputs": [],
   "source": [
    "dataset.drop(['Positive', 'Negative', \"Neutral\"], axis = 1, inplace=True)"
   ]
  },
  {
   "cell_type": "code",
   "execution_count": 19,
   "metadata": {},
   "outputs": [
    {
     "data": {
      "text/html": [
       "<div>\n",
       "<style scoped>\n",
       "    .dataframe tbody tr th:only-of-type {\n",
       "        vertical-align: middle;\n",
       "    }\n",
       "\n",
       "    .dataframe tbody tr th {\n",
       "        vertical-align: top;\n",
       "    }\n",
       "\n",
       "    .dataframe thead th {\n",
       "        text-align: right;\n",
       "    }\n",
       "</style>\n",
       "<table border=\"1\" class=\"dataframe\">\n",
       "  <thead>\n",
       "    <tr style=\"text-align: right;\">\n",
       "      <th></th>\n",
       "      <th>listing_id</th>\n",
       "      <th>reviewer_id</th>\n",
       "      <th>comments</th>\n",
       "      <th>Compound</th>\n",
       "    </tr>\n",
       "  </thead>\n",
       "  <tbody>\n",
       "    <tr>\n",
       "      <th>0</th>\n",
       "      <td>15883</td>\n",
       "      <td>30537860</td>\n",
       "      <td>If you need a clean, comfortable place to stay...</td>\n",
       "      <td>94.80</td>\n",
       "    </tr>\n",
       "    <tr>\n",
       "      <th>1</th>\n",
       "      <td>15883</td>\n",
       "      <td>37529754</td>\n",
       "      <td>It's so nice to be in the house! It's a peace ...</td>\n",
       "      <td>96.04</td>\n",
       "    </tr>\n",
       "    <tr>\n",
       "      <th>2</th>\n",
       "      <td>15883</td>\n",
       "      <td>3147341</td>\n",
       "      <td>A beautiful place, uniquely decorated showing ...</td>\n",
       "      <td>92.98</td>\n",
       "    </tr>\n",
       "    <tr>\n",
       "      <th>3</th>\n",
       "      <td>15883</td>\n",
       "      <td>29518067</td>\n",
       "      <td>Eine sehr schöne Unterkunft in einem privaten ...</td>\n",
       "      <td>0.00</td>\n",
       "    </tr>\n",
       "    <tr>\n",
       "      <th>4</th>\n",
       "      <td>15883</td>\n",
       "      <td>36016357</td>\n",
       "      <td>It was a very pleasant stay. Excellent locatio...</td>\n",
       "      <td>92.08</td>\n",
       "    </tr>\n",
       "  </tbody>\n",
       "</table>\n",
       "</div>"
      ],
      "text/plain": [
       "   listing_id  reviewer_id                                           comments  \\\n",
       "0       15883     30537860  If you need a clean, comfortable place to stay...   \n",
       "1       15883     37529754  It's so nice to be in the house! It's a peace ...   \n",
       "2       15883      3147341  A beautiful place, uniquely decorated showing ...   \n",
       "3       15883     29518067  Eine sehr schöne Unterkunft in einem privaten ...   \n",
       "4       15883     36016357  It was a very pleasant stay. Excellent locatio...   \n",
       "\n",
       "   Compound  \n",
       "0     94.80  \n",
       "1     96.04  \n",
       "2     92.98  \n",
       "3      0.00  \n",
       "4     92.08  "
      ]
     },
     "execution_count": 19,
     "metadata": {},
     "output_type": "execute_result"
    }
   ],
   "source": [
    "dataset.head()"
   ]
  },
  {
   "cell_type": "code",
   "execution_count": 20,
   "metadata": {},
   "outputs": [],
   "source": [
    "# define function for cleaning reviews sentences \n",
    "def clean_data(textData):\n",
    "    textData = re.sub(r'[?|$|.|!|&|\\r|\\n|;|-|,|:|\\d+]', r' ', textData)\n",
    "    textData = html.parser.unescape(textData)\n",
    "    return textData"
   ]
  },
  {
   "cell_type": "code",
   "execution_count": 21,
   "metadata": {},
   "outputs": [
    {
     "data": {
      "text/plain": [
       "466660"
      ]
     },
     "execution_count": 21,
     "metadata": {},
     "output_type": "execute_result"
    }
   ],
   "source": [
    "length = len(dataset.comments)\n",
    "length"
   ]
  },
  {
   "cell_type": "code",
   "execution_count": 22,
   "metadata": {},
   "outputs": [
    {
     "name": "stdout",
     "output_type": "stream",
     "text": [
      "Review count 466660\n"
     ]
    }
   ],
   "source": [
    "#clean reviews\n",
    "length = len(dataset.comments)\n",
    "print(\"Review count\",length)\n",
    "for i in range(0,length):\n",
    "    dataset.comments.values[i] = clean_data(dataset.comments.values[i])"
   ]
  },
  {
   "cell_type": "code",
   "execution_count": 23,
   "metadata": {},
   "outputs": [
    {
     "data": {
      "text/html": [
       "<div>\n",
       "<style scoped>\n",
       "    .dataframe tbody tr th:only-of-type {\n",
       "        vertical-align: middle;\n",
       "    }\n",
       "\n",
       "    .dataframe tbody tr th {\n",
       "        vertical-align: top;\n",
       "    }\n",
       "\n",
       "    .dataframe thead th {\n",
       "        text-align: right;\n",
       "    }\n",
       "</style>\n",
       "<table border=\"1\" class=\"dataframe\">\n",
       "  <thead>\n",
       "    <tr style=\"text-align: right;\">\n",
       "      <th></th>\n",
       "      <th>listing_id</th>\n",
       "      <th>reviewer_id</th>\n",
       "      <th>comments</th>\n",
       "      <th>Compound</th>\n",
       "    </tr>\n",
       "  </thead>\n",
       "  <tbody>\n",
       "    <tr>\n",
       "      <th>0</th>\n",
       "      <td>15883</td>\n",
       "      <td>30537860</td>\n",
       "      <td>If you need a clean  comfortable place to stay...</td>\n",
       "      <td>94.80</td>\n",
       "    </tr>\n",
       "    <tr>\n",
       "      <th>1</th>\n",
       "      <td>15883</td>\n",
       "      <td>37529754</td>\n",
       "      <td>It's so nice to be in the house  It's a peace ...</td>\n",
       "      <td>96.04</td>\n",
       "    </tr>\n",
       "    <tr>\n",
       "      <th>2</th>\n",
       "      <td>15883</td>\n",
       "      <td>3147341</td>\n",
       "      <td>A beautiful place  uniquely decorated showing ...</td>\n",
       "      <td>92.98</td>\n",
       "    </tr>\n",
       "    <tr>\n",
       "      <th>3</th>\n",
       "      <td>15883</td>\n",
       "      <td>29518067</td>\n",
       "      <td>Eine sehr schöne Unterkunft in einem privaten ...</td>\n",
       "      <td>0.00</td>\n",
       "    </tr>\n",
       "    <tr>\n",
       "      <th>4</th>\n",
       "      <td>15883</td>\n",
       "      <td>36016357</td>\n",
       "      <td>It was a very pleasant stay  Excellent locatio...</td>\n",
       "      <td>92.08</td>\n",
       "    </tr>\n",
       "  </tbody>\n",
       "</table>\n",
       "</div>"
      ],
      "text/plain": [
       "   listing_id  reviewer_id                                           comments  \\\n",
       "0       15883     30537860  If you need a clean  comfortable place to stay...   \n",
       "1       15883     37529754  It's so nice to be in the house  It's a peace ...   \n",
       "2       15883      3147341  A beautiful place  uniquely decorated showing ...   \n",
       "3       15883     29518067  Eine sehr schöne Unterkunft in einem privaten ...   \n",
       "4       15883     36016357  It was a very pleasant stay  Excellent locatio...   \n",
       "\n",
       "   Compound  \n",
       "0     94.80  \n",
       "1     96.04  \n",
       "2     92.98  \n",
       "3      0.00  \n",
       "4     92.08  "
      ]
     },
     "execution_count": 23,
     "metadata": {},
     "output_type": "execute_result"
    }
   ],
   "source": [
    "dataset.head()"
   ]
  },
  {
   "cell_type": "code",
   "execution_count": 73,
   "metadata": {},
   "outputs": [],
   "source": [
    "dataset.to_csv('./vienna_data/processed_reviews.csv',index=False)"
   ]
  }
 ],
 "metadata": {
  "kernelspec": {
   "display_name": "Python 3",
   "language": "python",
   "name": "python3"
  },
  "language_info": {
   "codemirror_mode": {
    "name": "ipython",
    "version": 3
   },
   "file_extension": ".py",
   "mimetype": "text/x-python",
   "name": "python",
   "nbconvert_exporter": "python",
   "pygments_lexer": "ipython3",
   "version": "3.7.6"
  }
 },
 "nbformat": 4,
 "nbformat_minor": 4
}
